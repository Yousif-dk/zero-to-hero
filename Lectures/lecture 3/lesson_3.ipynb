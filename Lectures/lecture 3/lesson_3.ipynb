{
 "cells": [
  {
   "cell_type": "code",
   "execution_count": 1,
   "metadata": {},
   "outputs": [],
   "source": [
    "#MLP to predict next char in sequence. \n",
    "import torch\n",
    "import torch.nn.functional as F\n",
    "import matplotlib.pyplot as plt #for figs\n",
    "%matplotlib inline"
   ]
  },
  {
   "cell_type": "code",
   "execution_count": 2,
   "metadata": {},
   "outputs": [
    {
     "data": {
      "text/plain": [
       "['emma', 'olivia', 'ava', 'isabella', 'sophia', 'charlotte', 'mia', 'amelia']"
      ]
     },
     "execution_count": 2,
     "metadata": {},
     "output_type": "execute_result"
    }
   ],
   "source": [
    "words = open('../lecture 2/names.txt','r').read().splitlines()\n",
    "words[:8]"
   ]
  },
  {
   "cell_type": "code",
   "execution_count": 3,
   "metadata": {},
   "outputs": [
    {
     "data": {
      "text/plain": [
       "32033"
      ]
     },
     "execution_count": 3,
     "metadata": {},
     "output_type": "execute_result"
    }
   ],
   "source": [
    "len(words)"
   ]
  },
  {
   "cell_type": "code",
   "execution_count": 4,
   "metadata": {},
   "outputs": [
    {
     "name": "stdout",
     "output_type": "stream",
     "text": [
      "{1: 'a', 2: 'b', 3: 'c', 4: 'd', 5: 'e', 6: 'f', 7: 'g', 8: 'h', 9: 'i', 10: 'j', 11: 'k', 12: 'l', 13: 'm', 14: 'n', 15: 'o', 16: 'p', 17: 'q', 18: 'r', 19: 's', 20: 't', 21: 'u', 22: 'v', 23: 'w', 24: 'x', 25: 'y', 26: 'z', 0: '.'}\n"
     ]
    }
   ],
   "source": [
    "#building the vocab of chars and mappings to/from integers\n",
    "chars = sorted(list(set(''.join(words))))\n",
    "stoi = {s:i+1 for i,s in enumerate(chars)}\n",
    "stoi['.'] = 0\n",
    "itos = {i:s for s,i in stoi.items()}\n",
    "print(itos)"
   ]
  },
  {
   "cell_type": "code",
   "execution_count": 6,
   "metadata": {},
   "outputs": [
    {
     "name": "stdout",
     "output_type": "stream",
     "text": [
      "... --> e\n",
      "..e --> m\n",
      ".em --> m\n",
      "emm --> a\n",
      "mma --> .\n",
      "... --> o\n",
      "..o --> l\n",
      ".ol --> i\n",
      "oli --> v\n",
      "liv --> i\n",
      "ivi --> a\n",
      "via --> .\n",
      "... --> a\n",
      "..a --> v\n",
      ".av --> a\n",
      "ava --> .\n",
      "... --> i\n",
      "..i --> s\n",
      ".is --> a\n",
      "isa --> b\n",
      "sab --> e\n",
      "abe --> l\n",
      "bel --> l\n",
      "ell --> a\n",
      "lla --> .\n",
      "... --> s\n",
      "..s --> o\n",
      ".so --> p\n",
      "sop --> h\n",
      "oph --> i\n",
      "phi --> a\n",
      "hia --> .\n"
     ]
    }
   ],
   "source": [
    "#let's build the dataset\n",
    "block_size = 3 #context length: how many chars do we take to predict the next one?\n",
    "X,Y = [], []\n",
    "for w in words[:5]:\n",
    "    #print(w)\n",
    "    context = [0]*block_size\n",
    "    for ch in w + '.':\n",
    "        ix = stoi[ch]\n",
    "        X.append(context)\n",
    "        Y.append(ix)\n",
    "        print(''.join(itos[i] for i in context), '-->', itos[ix])\n",
    "        context = context[1:] + [ix]\n",
    "\n",
    "X = torch.tensor(X)\n",
    "Y = torch.tensor(Y)"
   ]
  },
  {
   "cell_type": "code",
   "execution_count": 7,
   "metadata": {},
   "outputs": [
    {
     "data": {
      "text/plain": [
       "(torch.Size([32, 3]), torch.int64, torch.Size([32]), torch.int64)"
      ]
     },
     "execution_count": 7,
     "metadata": {},
     "output_type": "execute_result"
    }
   ],
   "source": [
    "X.shape, X.dtype, Y.shape,Y.dtype"
   ]
  },
  {
   "cell_type": "code",
   "execution_count": 8,
   "metadata": {},
   "outputs": [
    {
     "data": {
      "text/plain": [
       "tensor([[ 0,  0,  0],\n",
       "        [ 0,  0,  5],\n",
       "        [ 0,  5, 13],\n",
       "        [ 5, 13, 13],\n",
       "        [13, 13,  1],\n",
       "        [ 0,  0,  0],\n",
       "        [ 0,  0, 15],\n",
       "        [ 0, 15, 12],\n",
       "        [15, 12,  9],\n",
       "        [12,  9, 22],\n",
       "        [ 9, 22,  9],\n",
       "        [22,  9,  1],\n",
       "        [ 0,  0,  0],\n",
       "        [ 0,  0,  1],\n",
       "        [ 0,  1, 22],\n",
       "        [ 1, 22,  1],\n",
       "        [ 0,  0,  0],\n",
       "        [ 0,  0,  9],\n",
       "        [ 0,  9, 19],\n",
       "        [ 9, 19,  1],\n",
       "        [19,  1,  2],\n",
       "        [ 1,  2,  5],\n",
       "        [ 2,  5, 12],\n",
       "        [ 5, 12, 12],\n",
       "        [12, 12,  1],\n",
       "        [ 0,  0,  0],\n",
       "        [ 0,  0, 19],\n",
       "        [ 0, 19, 15],\n",
       "        [19, 15, 16],\n",
       "        [15, 16,  8],\n",
       "        [16,  8,  9],\n",
       "        [ 8,  9,  1]])"
      ]
     },
     "execution_count": 8,
     "metadata": {},
     "output_type": "execute_result"
    }
   ],
   "source": [
    "X"
   ]
  },
  {
   "cell_type": "code",
   "execution_count": 9,
   "metadata": {},
   "outputs": [],
   "source": [
    "#27 possible chars, embed them in a lower dimensional space. each one of our 27 chars will have a 2D embedding\n",
    "C = torch.randn((27,2))"
   ]
  },
  {
   "cell_type": "code",
   "execution_count": 11,
   "metadata": {},
   "outputs": [
    {
     "data": {
      "text/plain": [
       "tensor([[ 0.9462, -0.5067],\n",
       "        [-0.0402,  0.3951],\n",
       "        [ 1.4996,  0.5985],\n",
       "        [-0.6082, -0.2061],\n",
       "        [ 0.2354,  0.5555],\n",
       "        [-0.5618,  1.3183],\n",
       "        [ 0.8837,  0.2055],\n",
       "        [ 0.1672,  0.0846],\n",
       "        [ 0.6921,  0.8570],\n",
       "        [ 0.2528,  1.2388],\n",
       "        [-0.1892,  0.5280],\n",
       "        [-0.3911,  1.6711],\n",
       "        [ 0.9250,  0.0251],\n",
       "        [ 0.5800, -0.2808],\n",
       "        [ 0.4135,  0.0723],\n",
       "        [-0.9043, -0.7419],\n",
       "        [ 0.6941,  0.9938],\n",
       "        [-0.9405, -0.8687],\n",
       "        [ 1.0239, -1.4028],\n",
       "        [ 0.6369, -0.4191],\n",
       "        [-0.0388, -0.2023],\n",
       "        [-0.1990, -0.2938],\n",
       "        [-1.4533, -0.3917],\n",
       "        [ 0.3631,  0.2210],\n",
       "        [ 2.2297, -1.2885],\n",
       "        [ 0.1771, -1.4301],\n",
       "        [-0.5606,  0.1327]])"
      ]
     },
     "execution_count": 11,
     "metadata": {},
     "output_type": "execute_result"
    }
   ],
   "source": [
    "C"
   ]
  },
  {
   "cell_type": "code",
   "execution_count": 12,
   "metadata": {},
   "outputs": [
    {
     "data": {
      "text/plain": [
       "tensor([-0.5618,  1.3183])"
      ]
     },
     "execution_count": 12,
     "metadata": {},
     "output_type": "execute_result"
    }
   ],
   "source": [
    "C[5]"
   ]
  },
  {
   "cell_type": "code",
   "execution_count": 13,
   "metadata": {},
   "outputs": [
    {
     "data": {
      "text/plain": [
       "tensor([-0.5618,  1.3183])"
      ]
     },
     "execution_count": 13,
     "metadata": {},
     "output_type": "execute_result"
    }
   ],
   "source": [
    "F.one_hot(torch.tensor(5),num_classes=27).float() @ C #THIS IS THE SAME RESULT BECAUSE OF HOW MATMUL WORKS! ITS AN ELEMENTWISE MULTIPLICATION OF EACH ROW. THE ONEHOT VECTOR IS JUST \n",
    "                                                      #ALL ZEROS AND A 1 FOR THE CORRESPONDING NUMBER, SO THE MATMUL WE DO HERE JUST MASKS OUT THE ENTIRE THING EXCEPT FOR THE ELEMENT WE WANT\n",
    "                                                      #We won't do this because its completely unneccesary but my third eye has been opened"
   ]
  },
  {
   "cell_type": "code",
   "execution_count": 14,
   "metadata": {},
   "outputs": [
    {
     "data": {
      "text/plain": [
       "tensor([[-0.5618,  1.3183],\n",
       "        [ 0.8837,  0.2055],\n",
       "        [ 0.1672,  0.0846],\n",
       "        [ 0.1672,  0.0846],\n",
       "        [ 0.1672,  0.0846],\n",
       "        [ 0.1672,  0.0846]])"
      ]
     },
     "execution_count": 14,
     "metadata": {},
     "output_type": "execute_result"
    }
   ],
   "source": [
    "C[torch.tensor([5,6,7,7,7,7])] #this is just to show that you can index into a pytorch tensor with a different tensor, which is why the following works:"
   ]
  },
  {
   "cell_type": "code",
   "execution_count": 15,
   "metadata": {},
   "outputs": [
    {
     "data": {
      "text/plain": [
       "tensor([[[ 0.9462, -0.5067],\n",
       "         [ 0.9462, -0.5067],\n",
       "         [ 0.9462, -0.5067]],\n",
       "\n",
       "        [[ 0.9462, -0.5067],\n",
       "         [ 0.9462, -0.5067],\n",
       "         [-0.5618,  1.3183]],\n",
       "\n",
       "        [[ 0.9462, -0.5067],\n",
       "         [-0.5618,  1.3183],\n",
       "         [ 0.5800, -0.2808]],\n",
       "\n",
       "        [[-0.5618,  1.3183],\n",
       "         [ 0.5800, -0.2808],\n",
       "         [ 0.5800, -0.2808]],\n",
       "\n",
       "        [[ 0.5800, -0.2808],\n",
       "         [ 0.5800, -0.2808],\n",
       "         [-0.0402,  0.3951]],\n",
       "\n",
       "        [[ 0.9462, -0.5067],\n",
       "         [ 0.9462, -0.5067],\n",
       "         [ 0.9462, -0.5067]],\n",
       "\n",
       "        [[ 0.9462, -0.5067],\n",
       "         [ 0.9462, -0.5067],\n",
       "         [-0.9043, -0.7419]],\n",
       "\n",
       "        [[ 0.9462, -0.5067],\n",
       "         [-0.9043, -0.7419],\n",
       "         [ 0.9250,  0.0251]],\n",
       "\n",
       "        [[-0.9043, -0.7419],\n",
       "         [ 0.9250,  0.0251],\n",
       "         [ 0.2528,  1.2388]],\n",
       "\n",
       "        [[ 0.9250,  0.0251],\n",
       "         [ 0.2528,  1.2388],\n",
       "         [-1.4533, -0.3917]],\n",
       "\n",
       "        [[ 0.2528,  1.2388],\n",
       "         [-1.4533, -0.3917],\n",
       "         [ 0.2528,  1.2388]],\n",
       "\n",
       "        [[-1.4533, -0.3917],\n",
       "         [ 0.2528,  1.2388],\n",
       "         [-0.0402,  0.3951]],\n",
       "\n",
       "        [[ 0.9462, -0.5067],\n",
       "         [ 0.9462, -0.5067],\n",
       "         [ 0.9462, -0.5067]],\n",
       "\n",
       "        [[ 0.9462, -0.5067],\n",
       "         [ 0.9462, -0.5067],\n",
       "         [-0.0402,  0.3951]],\n",
       "\n",
       "        [[ 0.9462, -0.5067],\n",
       "         [-0.0402,  0.3951],\n",
       "         [-1.4533, -0.3917]],\n",
       "\n",
       "        [[-0.0402,  0.3951],\n",
       "         [-1.4533, -0.3917],\n",
       "         [-0.0402,  0.3951]],\n",
       "\n",
       "        [[ 0.9462, -0.5067],\n",
       "         [ 0.9462, -0.5067],\n",
       "         [ 0.9462, -0.5067]],\n",
       "\n",
       "        [[ 0.9462, -0.5067],\n",
       "         [ 0.9462, -0.5067],\n",
       "         [ 0.2528,  1.2388]],\n",
       "\n",
       "        [[ 0.9462, -0.5067],\n",
       "         [ 0.2528,  1.2388],\n",
       "         [ 0.6369, -0.4191]],\n",
       "\n",
       "        [[ 0.2528,  1.2388],\n",
       "         [ 0.6369, -0.4191],\n",
       "         [-0.0402,  0.3951]],\n",
       "\n",
       "        [[ 0.6369, -0.4191],\n",
       "         [-0.0402,  0.3951],\n",
       "         [ 1.4996,  0.5985]],\n",
       "\n",
       "        [[-0.0402,  0.3951],\n",
       "         [ 1.4996,  0.5985],\n",
       "         [-0.5618,  1.3183]],\n",
       "\n",
       "        [[ 1.4996,  0.5985],\n",
       "         [-0.5618,  1.3183],\n",
       "         [ 0.9250,  0.0251]],\n",
       "\n",
       "        [[-0.5618,  1.3183],\n",
       "         [ 0.9250,  0.0251],\n",
       "         [ 0.9250,  0.0251]],\n",
       "\n",
       "        [[ 0.9250,  0.0251],\n",
       "         [ 0.9250,  0.0251],\n",
       "         [-0.0402,  0.3951]],\n",
       "\n",
       "        [[ 0.9462, -0.5067],\n",
       "         [ 0.9462, -0.5067],\n",
       "         [ 0.9462, -0.5067]],\n",
       "\n",
       "        [[ 0.9462, -0.5067],\n",
       "         [ 0.9462, -0.5067],\n",
       "         [ 0.6369, -0.4191]],\n",
       "\n",
       "        [[ 0.9462, -0.5067],\n",
       "         [ 0.6369, -0.4191],\n",
       "         [-0.9043, -0.7419]],\n",
       "\n",
       "        [[ 0.6369, -0.4191],\n",
       "         [-0.9043, -0.7419],\n",
       "         [ 0.6941,  0.9938]],\n",
       "\n",
       "        [[-0.9043, -0.7419],\n",
       "         [ 0.6941,  0.9938],\n",
       "         [ 0.6921,  0.8570]],\n",
       "\n",
       "        [[ 0.6941,  0.9938],\n",
       "         [ 0.6921,  0.8570],\n",
       "         [ 0.2528,  1.2388]],\n",
       "\n",
       "        [[ 0.6921,  0.8570],\n",
       "         [ 0.2528,  1.2388],\n",
       "         [-0.0402,  0.3951]]])"
      ]
     },
     "execution_count": 15,
     "metadata": {},
     "output_type": "execute_result"
    }
   ],
   "source": [
    "C[X] #oh my god"
   ]
  },
  {
   "cell_type": "code",
   "execution_count": 16,
   "metadata": {},
   "outputs": [
    {
     "data": {
      "text/plain": [
       "torch.Size([32, 3, 2])"
      ]
     },
     "execution_count": 16,
     "metadata": {},
     "output_type": "execute_result"
    }
   ],
   "source": [
    "C[X].shape"
   ]
  },
  {
   "cell_type": "code",
   "execution_count": 17,
   "metadata": {},
   "outputs": [
    {
     "data": {
      "text/plain": [
       "tensor(1)"
      ]
     },
     "execution_count": 17,
     "metadata": {},
     "output_type": "execute_result"
    }
   ],
   "source": [
    "X[13,2]"
   ]
  },
  {
   "cell_type": "code",
   "execution_count": 18,
   "metadata": {},
   "outputs": [
    {
     "data": {
      "text/plain": [
       "tensor([-0.0402,  0.3951])"
      ]
     },
     "execution_count": 18,
     "metadata": {},
     "output_type": "execute_result"
    }
   ],
   "source": [
    "C[X][13,2]"
   ]
  },
  {
   "cell_type": "code",
   "execution_count": 19,
   "metadata": {},
   "outputs": [
    {
     "data": {
      "text/plain": [
       "tensor([-0.0402,  0.3951])"
      ]
     },
     "execution_count": 19,
     "metadata": {},
     "output_type": "execute_result"
    }
   ],
   "source": [
    "C[1]"
   ]
  },
  {
   "cell_type": "code",
   "execution_count": 20,
   "metadata": {},
   "outputs": [
    {
     "data": {
      "text/plain": [
       "torch.Size([32, 3, 2])"
      ]
     },
     "execution_count": 20,
     "metadata": {},
     "output_type": "execute_result"
    }
   ],
   "source": [
    "#Pytorch embedding is awesome. \n",
    "emb = C[X]\n",
    "emb.shape"
   ]
  },
  {
   "cell_type": "code",
   "execution_count": 21,
   "metadata": {},
   "outputs": [],
   "source": [
    "W1 = torch.randn((6,100)) #100 neurons\n",
    "b1 = torch.randn(100)"
   ]
  },
  {
   "cell_type": "code",
   "execution_count": 22,
   "metadata": {},
   "outputs": [
    {
     "ename": "RuntimeError",
     "evalue": "mat1 and mat2 shapes cannot be multiplied (96x2 and 6x100)",
     "output_type": "error",
     "traceback": [
      "\u001b[1;31m---------------------------------------------------------------------------\u001b[0m",
      "\u001b[1;31mRuntimeError\u001b[0m                              Traceback (most recent call last)",
      "Cell \u001b[1;32mIn[22], line 1\u001b[0m\n\u001b[1;32m----> 1\u001b[0m \u001b[43memb\u001b[49m\u001b[43m \u001b[49m\u001b[38;5;241;43m@\u001b[39;49m\u001b[43m \u001b[49m\u001b[43mW1\u001b[49m \u001b[38;5;241m+\u001b[39m b1 \u001b[38;5;66;03m#doesn't work currently, dimensional issues\u001b[39;00m\n",
      "\u001b[1;31mRuntimeError\u001b[0m: mat1 and mat2 shapes cannot be multiplied (96x2 and 6x100)"
     ]
    }
   ],
   "source": [
    "emb @ W1 + b1 #doesn't work currently, dimensional issues"
   ]
  },
  {
   "cell_type": "code",
   "execution_count": 24,
   "metadata": {},
   "outputs": [
    {
     "data": {
      "text/plain": [
       "torch.Size([32, 6])"
      ]
     },
     "execution_count": 24,
     "metadata": {},
     "output_type": "execute_result"
    }
   ],
   "source": [
    "torch.cat([emb[:,0,:],  emb[:,1,:], emb[:,2,:]],1).shape"
   ]
  },
  {
   "cell_type": "code",
   "execution_count": 25,
   "metadata": {},
   "outputs": [
    {
     "data": {
      "text/plain": [
       "torch.Size([32, 6])"
      ]
     },
     "execution_count": 25,
     "metadata": {},
     "output_type": "execute_result"
    }
   ],
   "source": [
    "#now our embeddings have the dim we want, but its hideous, we're putting values in directly and it will not work if we decide to change the length of our context window (its currently 3)\n",
    "torch.cat(torch.unbind(emb,1), 1).shape #this is better than the first one. its still inefficient because it creates a new tensor and a whole bunch of new memory"
   ]
  },
  {
   "cell_type": "code",
   "execution_count": 26,
   "metadata": {},
   "outputs": [
    {
     "data": {
      "text/plain": [
       "torch.Size([32, 3, 2])"
      ]
     },
     "execution_count": 26,
     "metadata": {},
     "output_type": "execute_result"
    }
   ],
   "source": [
    "#calling .view() is extremely efficient due to shadow magic purposes. \n",
    "emb.shape"
   ]
  },
  {
   "cell_type": "code",
   "execution_count": 27,
   "metadata": {},
   "outputs": [
    {
     "data": {
      "text/plain": [
       "tensor([[True, True, True, True, True, True],\n",
       "        [True, True, True, True, True, True],\n",
       "        [True, True, True, True, True, True],\n",
       "        [True, True, True, True, True, True],\n",
       "        [True, True, True, True, True, True],\n",
       "        [True, True, True, True, True, True],\n",
       "        [True, True, True, True, True, True],\n",
       "        [True, True, True, True, True, True],\n",
       "        [True, True, True, True, True, True],\n",
       "        [True, True, True, True, True, True],\n",
       "        [True, True, True, True, True, True],\n",
       "        [True, True, True, True, True, True],\n",
       "        [True, True, True, True, True, True],\n",
       "        [True, True, True, True, True, True],\n",
       "        [True, True, True, True, True, True],\n",
       "        [True, True, True, True, True, True],\n",
       "        [True, True, True, True, True, True],\n",
       "        [True, True, True, True, True, True],\n",
       "        [True, True, True, True, True, True],\n",
       "        [True, True, True, True, True, True],\n",
       "        [True, True, True, True, True, True],\n",
       "        [True, True, True, True, True, True],\n",
       "        [True, True, True, True, True, True],\n",
       "        [True, True, True, True, True, True],\n",
       "        [True, True, True, True, True, True],\n",
       "        [True, True, True, True, True, True],\n",
       "        [True, True, True, True, True, True],\n",
       "        [True, True, True, True, True, True],\n",
       "        [True, True, True, True, True, True],\n",
       "        [True, True, True, True, True, True],\n",
       "        [True, True, True, True, True, True],\n",
       "        [True, True, True, True, True, True]])"
      ]
     },
     "execution_count": 27,
     "metadata": {},
     "output_type": "execute_result"
    }
   ],
   "source": [
    "emb.view(32,6)  == torch.cat(torch.unbind(emb,1), 1)#this is basically the concatenation operation  we were looking for"
   ]
  },
  {
   "cell_type": "code",
   "execution_count": 28,
   "metadata": {},
   "outputs": [],
   "source": [
    "h = torch.tanh(emb.view(-1,6) @ W1 + b1) #this works now!  (putting in -1 in the first arg of .view( ) makes pytorch infer what dimension this should have. neat)"
   ]
  },
  {
   "cell_type": "code",
   "execution_count": 29,
   "metadata": {},
   "outputs": [
    {
     "data": {
      "text/plain": [
       "torch.Size([32, 100])"
      ]
     },
     "execution_count": 29,
     "metadata": {},
     "output_type": "execute_result"
    }
   ],
   "source": [
    "h.shape"
   ]
  },
  {
   "cell_type": "code",
   "execution_count": 30,
   "metadata": {},
   "outputs": [
    {
     "data": {
      "text/plain": [
       "tensor([[ 0.7635,  0.9935, -0.8695,  ..., -0.3361, -0.9786, -0.9986],\n",
       "        [ 0.9153,  0.8431,  0.1323,  ...,  0.9959, -0.9963, -0.9984],\n",
       "        [ 0.9520,  0.9442, -0.7971,  ..., -0.7453, -0.0199, -0.9985],\n",
       "        ...,\n",
       "        [ 0.9216,  0.7273,  0.2481,  ..., -0.1949,  0.8510, -0.9960],\n",
       "        [ 0.8035,  0.8650, -0.8993,  ...,  0.9653, -0.9987, -0.9862],\n",
       "        [ 0.8086,  0.8922, -0.9243,  ...,  0.7107, -0.9657, -0.8813]])"
      ]
     },
     "execution_count": 30,
     "metadata": {},
     "output_type": "execute_result"
    }
   ],
   "source": [
    "h"
   ]
  },
  {
   "cell_type": "code",
   "execution_count": 31,
   "metadata": {},
   "outputs": [
    {
     "name": "stdout",
     "output_type": "stream",
     "text": [
      "torch.Size([32, 100])\n",
      "torch.Size([100])\n"
     ]
    }
   ],
   "source": [
    "#a note on broadcasting and making sure that it works\n",
    "print((emb.view(-1,6)@W1).shape)\n",
    "print(b1.shape)\n",
    "#We basically have \n",
    "# 32,100\n",
    "#  1,100 , this creates a \"fake\" dimension of 1 to make the addition possible. 100 aligns with 100, we're good. good practice to check broadcasting semantics"
   ]
  },
  {
   "cell_type": "code",
   "execution_count": 32,
   "metadata": {},
   "outputs": [],
   "source": [
    "W2 = torch.randn((100,27)) #27 neurons, this is the final layer of our network\n",
    "b2 = torch.randn(27)\n",
    "logits = h @ W2 + b2"
   ]
  },
  {
   "cell_type": "code",
   "execution_count": 33,
   "metadata": {},
   "outputs": [
    {
     "data": {
      "text/plain": [
       "torch.Size([32, 27])"
      ]
     },
     "execution_count": 33,
     "metadata": {},
     "output_type": "execute_result"
    }
   ],
   "source": [
    "logits.shape"
   ]
  },
  {
   "cell_type": "code",
   "execution_count": 38,
   "metadata": {},
   "outputs": [
    {
     "data": {
      "text/plain": [
       "tensor([[-19.5653,  -4.8910,  19.1921,  -1.2431,   9.5596,  -5.4695,   5.1664,\n",
       "          -1.7774, -13.7921, -13.9384,   7.7038,  11.2128,   2.1285,   3.2638,\n",
       "          -1.9628, -10.6032,  -1.2184,  -5.0236,   9.9111,   0.6759,   7.7261,\n",
       "          18.7083,  -3.7293,  -0.9092,   7.0308,  10.2050,  19.1433],\n",
       "        [-16.2956,  -3.4812,  -9.5039,  -5.9267,   6.8686, -20.5129,  -8.8153,\n",
       "           8.4786,  -1.4425,  -6.6246, -13.2913, -10.9136,   6.4823,   8.2476,\n",
       "          -3.5762,  -4.0564,  -2.8164,  -3.8858,   1.2694,  -5.3500,   0.5172,\n",
       "           4.3221,  -3.1008,   5.6820,   3.0424,  16.8611,   6.3647],\n",
       "        [  0.4506,  -6.6771,  19.4337,   0.3260,   5.5302,  13.3023,  14.5765,\n",
       "         -16.0236,  -4.3529,   5.0645,  -6.3898,   6.0291,   4.5442,   2.8441,\n",
       "           7.8691,  -5.8949,  -5.8795,   4.9970,   3.2907,   7.9450,  10.8360,\n",
       "          11.0560,  -7.6015,   6.1357, -13.9982,   4.1470,   6.7296],\n",
       "        [-16.2812,  12.0858,   6.3840,   9.1431,   0.0301,  -2.7241,   9.1905,\n",
       "          -1.0633,   1.8556,  -2.0424,  14.5218,   6.8538,   6.8613,  -4.4867,\n",
       "          -5.2345,  -5.8833,   8.8641,  -2.9463,  -2.2486,  -3.4279,   2.2393,\n",
       "           0.9888,  14.5001,  -2.2229,  13.9116,  12.0032,   0.7306],\n",
       "        [-15.6157,  -3.4627,   3.8401,  -2.9115,   9.3938, -16.0548,   3.5154,\n",
       "           1.2768,  -5.4112,  -7.9726,  -6.4162,   0.8546,   9.7767,   8.3615,\n",
       "          -2.2397,  -8.0237,  -2.4629,  -8.0252,   7.7248,  -4.1768,   5.8395,\n",
       "           6.0785,  -0.9635,   6.0971,   4.0079,  13.9980,  10.7731],\n",
       "        [-19.5653,  -4.8910,  19.1921,  -1.2431,   9.5596,  -5.4695,   5.1664,\n",
       "          -1.7774, -13.7921, -13.9384,   7.7038,  11.2128,   2.1285,   3.2638,\n",
       "          -1.9628, -10.6032,  -1.2184,  -5.0236,   9.9111,   0.6759,   7.7261,\n",
       "          18.7083,  -3.7293,  -0.9092,   7.0308,  10.2050,  19.1433],\n",
       "        [-15.8917,  -0.0341,   6.9148,  -5.7538,   4.5762, -10.6057,   3.0305,\n",
       "           2.0568, -10.4155, -12.7198, -11.5791,   1.0731,   4.0880,   5.3549,\n",
       "          -7.6697,  -6.0375,  -5.8335,  -1.1988,  13.4941,   0.4012,   5.4404,\n",
       "           5.7566,   5.1807,   8.9316,   4.3514,   9.7495,  12.7761],\n",
       "        [ -4.3576,  -3.7213,  28.5311,   0.2832,   7.0121,   1.9024,  14.8676,\n",
       "         -18.7150,  -6.7065,  -0.7378,   4.4306,   7.1524,  -2.7331,   0.2684,\n",
       "          -3.9322,   1.4639,   0.8411,  -1.3801,   5.2629,  -3.6690,   5.3817,\n",
       "          17.4934,  -7.0964,  -5.7675,  -2.5125,  -1.5387,  13.1986],\n",
       "        [-11.4262, -12.8621,  -9.7142,  -0.8061,   6.6480, -22.1284,  -5.7274,\n",
       "           9.8927,   2.7143,  -2.9543,  -0.0735,  -5.0566,   2.5150,  -0.9959,\n",
       "          -3.3698,  -2.2010,  -1.0297,  -5.1069,   9.8031,   4.9173,  -3.0336,\n",
       "          -3.8793,   1.4065,   2.5698,   2.1513,  19.0313,  16.4765],\n",
       "        [  2.8368,   3.6042,  -5.5775,  -4.6648,  -3.5019,   8.9294,   1.4800,\n",
       "          -0.5001,  -4.8993,   1.4057, -15.2851,  14.1780,  12.4564,   4.0566,\n",
       "           9.8481, -12.5758,   2.9818,   3.5802,   1.4753,   4.5862,  11.4081,\n",
       "           1.9961,   3.0789,   7.9758,  -1.7076,  11.3933,  -5.5067],\n",
       "        [ 10.2744,  11.0459,   7.4643,  -0.6786,  -1.2218,   9.0446,   4.7297,\n",
       "         -10.6362,  12.1617,   3.0425,  12.1593,   4.6538,   3.2158,   2.4208,\n",
       "          -5.4769,  -4.9112,   6.1815,   2.2467,  -6.8839,   2.0450,  -2.7802,\n",
       "           7.8424,  -2.7409, -14.9154,   8.5623,  12.5554,  -5.8772],\n",
       "        [ -0.6080, -17.6053,  -5.8639,  -0.5577,   2.3591, -12.3922,  -2.4897,\n",
       "          -0.6533,  12.5189,   7.6163,   0.2761,  -1.5389,   3.1042,   2.2223,\n",
       "           2.3906,  -4.6357,  -2.2300,  -4.1155,  12.0709,   9.7826,   0.0628,\n",
       "          -8.8514,  -0.3933,   4.8518, -13.2271,  14.7471,   6.3358],\n",
       "        [-19.5653,  -4.8910,  19.1921,  -1.2431,   9.5596,  -5.4695,   5.1664,\n",
       "          -1.7774, -13.7921, -13.9384,   7.7038,  11.2128,   2.1285,   3.2638,\n",
       "          -1.9628, -10.6032,  -1.2184,  -5.0236,   9.9111,   0.6759,   7.7261,\n",
       "          18.7083,  -3.7293,  -0.9092,   7.0308,  10.2050,  19.1433],\n",
       "        [-18.6602,  -3.4737,   0.7194,  -2.1069,  10.4759, -18.8339,  -2.9298,\n",
       "           4.7111,  -6.0846, -14.0201,  -7.8098,  -1.5538,   8.7277,   7.6922,\n",
       "          -4.8263,  -7.0210,  -2.9968,  -8.7111,   5.8090,  -5.4781,   4.1855,\n",
       "           7.8627,  -0.4376,   4.3452,   6.5970,  14.1323,  13.0271],\n",
       "        [  0.1167,   3.4785,  -4.5019,  -3.2994,  -4.3735,   1.0595,   4.5436,\n",
       "          -3.6795,  -2.9389,   0.1570, -20.1687,   9.4683,   7.8326,   8.1006,\n",
       "           5.7978,  -8.6226,  -0.7958,   5.3948,   5.9506,   2.6836,   8.2310,\n",
       "          -1.8268,   1.7838,   5.6652,  -5.5335,   9.1465,   4.9325],\n",
       "        [  6.3126,  -0.7245,  10.4511,  -3.9307,  -2.5350,   9.5665,   8.2610,\n",
       "         -17.9598,   8.7926,   1.9396,   6.3288,   6.2634,  -0.8838,   2.1153,\n",
       "          -2.5559,   0.3756,   5.6928,   3.0790,   2.4245,   0.5480,  -1.9930,\n",
       "           6.0710,  -0.8920,  -3.7048,   3.2326,   3.5711,   1.0457],\n",
       "        [-19.5653,  -4.8910,  19.1921,  -1.2431,   9.5596,  -5.4695,   5.1664,\n",
       "          -1.7774, -13.7921, -13.9384,   7.7038,  11.2128,   2.1285,   3.2638,\n",
       "          -1.9628, -10.6032,  -1.2184,  -5.0236,   9.9111,   0.6759,   7.7261,\n",
       "          18.7083,  -3.7293,  -0.9092,   7.0308,  10.2050,  19.1433],\n",
       "        [-17.4299,  -2.5116,  -1.5148,  -2.4909,   8.8008, -18.1204,  -5.2755,\n",
       "          10.6075,  -3.4373,  -7.9627,  -5.7760,  -7.9569,   8.5063,   8.8061,\n",
       "          -4.9227,  -4.6233,   0.8609,  -9.3596,  -0.4680,  -7.9496,  -0.1842,\n",
       "          10.9103,  -4.0816,   2.1896,   5.6494,  19.1032,  12.4629],\n",
       "        [ -5.0030,  -4.0776,  12.3117,   5.0095,   3.6766,   9.7065,  10.8406,\n",
       "          -7.8317,  -6.0066,   0.5072,  -2.0376,   5.2068,   7.5686,   1.6345,\n",
       "           9.4167,  -9.9314,  -4.1575,   2.6660,   2.4890,  10.4225,  15.2538,\n",
       "          13.4763,  -6.7152,  10.6435, -10.9816,   9.9216,   3.1594],\n",
       "        [-10.6794,  10.3530,  -2.5579,   5.5939,   2.6851,  -7.2215,  -2.3986,\n",
       "           5.0644,   2.5431,  -2.7997,  10.8680,  -1.6316,   9.8214,   1.5735,\n",
       "          -1.0229,  -7.1901,   6.7484,  -0.6659,  -5.7717,  -6.9132,  -0.3700,\n",
       "           7.1965,  10.3770,  -1.8534,  10.8189,  17.3770,   1.7136],\n",
       "        [  3.4926,  -4.1204,  18.6546,  -0.5219,   8.8394,  -1.9435,  17.0867,\n",
       "         -10.3578,   3.0372,   1.9791,   1.8138,  14.0955,   2.8692,   2.9019,\n",
       "          -2.3031,  -9.4825,  -6.8352,   0.8302,   2.8238,   0.3286,   8.9460,\n",
       "           8.1567, -10.0907,   3.3334,  -8.1956,   6.3587,  14.5768],\n",
       "        [ -7.5601,  -5.3227, -16.4951,  -3.4693,   4.8365, -16.4247, -12.5655,\n",
       "          11.9561,   2.9172,  -4.7789,  -3.9982,   1.7437,  10.7793,   6.7972,\n",
       "           5.9896, -11.6729,  -7.7903,   3.5243,  -3.5504,   4.3667,   4.5572,\n",
       "          -2.4800,   5.9884,  11.5387,  -3.9690,  20.3493,  -2.4556],\n",
       "        [  7.7962,  -1.0778,  19.6320,   6.1031,   3.9652,  15.4262,  12.8080,\n",
       "          -9.7274,   0.7514,   4.4614,  -0.2395,  18.1961,   3.7122,   6.6056,\n",
       "           8.5178,  -6.0060,  -2.5327,   7.6098,  -7.1405,   5.5596,  12.8624,\n",
       "           9.2934,   1.4864,   0.0614,  -3.4069,   7.5759,   0.4311],\n",
       "        [-16.4171,  10.7330,   5.0406,   9.6496,   2.0616,  -3.8157,   2.2358,\n",
       "           2.4364,   1.5222,  -5.5449,  17.0865,   7.9558,   8.2499,  -5.8108,\n",
       "          -4.3095, -10.2353,   5.2231,  -3.5555,  -4.5663,  -2.2169,   4.7218,\n",
       "           1.6659,  12.2796,  -0.4440,   9.7096,  16.3708,   3.6200],\n",
       "        [-11.2340,   1.0957,   2.6507,   2.1187,  10.0586, -12.9416,  -1.4563,\n",
       "           2.1069,  -2.1009,  -7.0491,  -6.8045,   0.2645,  11.8294,   8.8625,\n",
       "          -0.1063, -12.6794,  -1.1873,  -4.9005,   1.3229,  -2.5195,   7.8587,\n",
       "           5.9489,   0.6195,   6.0177,   0.7465,  20.2364,   9.7736],\n",
       "        [-19.5653,  -4.8910,  19.1921,  -1.2431,   9.5596,  -5.4695,   5.1664,\n",
       "          -1.7774, -13.7921, -13.9384,   7.7038,  11.2128,   2.1285,   3.2638,\n",
       "          -1.9628, -10.6032,  -1.2184,  -5.0236,   9.9111,   0.6759,   7.7261,\n",
       "          18.7083,  -3.7293,  -0.9092,   7.0308,  10.2050,  19.1433],\n",
       "        [-21.1293,  -4.9756,  16.9022,  -2.5244,   9.7196,  -8.8182,   3.7059,\n",
       "          -1.5119, -12.7609, -16.2661,   5.2195,  10.7631,   3.7625,   4.0339,\n",
       "          -2.8308, -10.9680,  -2.5062,  -5.8381,   9.9673,  -1.2271,   6.4383,\n",
       "          16.4509,  -2.6729,   0.8929,   5.9729,  12.1500,  19.2892],\n",
       "        [-12.0435,   0.3481,   9.6355,  -6.0645,   3.0575,  -8.2454,   4.5759,\n",
       "          -2.3744,  -8.7586,  -8.7016, -13.8532,   2.6664,   3.2529,   4.6350,\n",
       "          -6.4885,  -4.9656,  -5.7223,  -1.2272,  14.1589,   0.6021,   6.5290,\n",
       "           7.8349,   3.4417,   8.2235,   1.6328,   8.6768,  12.9574],\n",
       "        [ -0.0363,  -3.1135,  17.8854,  -1.4583,   8.1310,  -3.4622,   8.3029,\n",
       "         -15.5085,   0.3883,   2.7660,   3.2743,   2.7274,  -2.2018,   0.1144,\n",
       "          -9.0355,   1.0212,   1.8936,  -5.7146,   6.1397,  -4.6458,   2.9540,\n",
       "          10.5138,  -9.6857,  -5.4839,  -0.5659,   1.4705,  15.0208],\n",
       "        [-13.2485, -17.4042,   0.4887,   2.0510,   5.9070, -13.4032,   3.4142,\n",
       "           0.5840,   2.6217,   1.0276,   2.6547,   1.1146,   2.4534,   1.8716,\n",
       "           2.6167,  -7.2293,  -3.7147,  -5.3006,  10.3941,   9.7327,  -0.2564,\n",
       "          -3.6214,  -2.7469,   7.0977, -10.3883,  17.7937,  13.8463],\n",
       "        [  4.4206,  -4.4823,  -2.3945,   3.7838,  14.6444,  -6.3551,  -2.4666,\n",
       "           5.4891,   7.6770,   8.2900,   4.1535,  -3.3139,  10.8187,   9.2180,\n",
       "           7.1477,  -9.1382,  -6.1283,  -2.5104, -10.3248,  -2.3270,  11.8825,\n",
       "           8.0180,   0.6111,   4.7893,  -5.1416,  22.1826,   2.6720],\n",
       "        [  7.4870,  -3.9931,   4.2585,  -3.2165,   5.2469,   7.0319,   4.5933,\n",
       "           2.4488,   3.6813,   5.2456,   0.7522,  13.1717,  14.1699,  10.5028,\n",
       "           8.3665, -10.3416,  -0.7453,  -0.0455,  -8.3563,  -0.2712,  13.0171,\n",
       "           8.8343,   3.4466,   3.9092,  -2.9016,  22.3624,  -1.5496]])"
      ]
     },
     "execution_count": 38,
     "metadata": {},
     "output_type": "execute_result"
    }
   ],
   "source": [
    "logits"
   ]
  },
  {
   "cell_type": "code",
   "execution_count": 34,
   "metadata": {},
   "outputs": [],
   "source": [
    "counts = logits.exp()"
   ]
  },
  {
   "cell_type": "code",
   "execution_count": 35,
   "metadata": {},
   "outputs": [],
   "source": [
    "prob = counts / counts.sum(1, keepdims = True)"
   ]
  },
  {
   "cell_type": "code",
   "execution_count": 36,
   "metadata": {},
   "outputs": [
    {
     "data": {
      "text/plain": [
       "torch.Size([32, 27])"
      ]
     },
     "execution_count": 36,
     "metadata": {},
     "output_type": "execute_result"
    }
   ],
   "source": [
    "#Previous two steps was our softmax\n",
    "prob.shape"
   ]
  },
  {
   "cell_type": "code",
   "execution_count": 37,
   "metadata": {},
   "outputs": [
    {
     "data": {
      "text/plain": [
       "tensor(1.)"
      ]
     },
     "execution_count": 37,
     "metadata": {},
     "output_type": "execute_result"
    }
   ],
   "source": [
    "prob[0].sum() #checking that softmax has worked"
   ]
  },
  {
   "cell_type": "code",
   "execution_count": 39,
   "metadata": {},
   "outputs": [
    {
     "data": {
      "text/plain": [
       "tensor([7.5817e-12, 1.8153e-04, 6.1766e-08, 3.2365e-02, 1.2857e-13, 4.4692e-14,\n",
       "        5.3919e-05, 1.9440e-13, 2.0562e-08, 2.1440e-06, 8.0756e-02, 1.8104e-07,\n",
       "        1.3521e-11, 3.4430e-07, 9.7000e-04, 8.9237e-03, 1.5914e-15, 1.7794e-12,\n",
       "        3.1821e-09, 2.1881e-09, 9.1686e-10, 6.9760e-05, 9.7143e-08, 1.1602e-03,\n",
       "        2.1502e-14, 3.5374e-09, 6.2832e-14, 1.7573e-09, 2.3807e-08, 5.1272e-08,\n",
       "        2.6262e-12, 3.4632e-07])"
      ]
     },
     "execution_count": 39,
     "metadata": {},
     "output_type": "execute_result"
    }
   ],
   "source": [
    "#we have the actual layer that comes next. it comes from Y, which is the identity of the next char that we wanna predict. we wanna index into the rows of prob and each row, we'd like to pluck\n",
    "#out the probablility assigned to the next character\n",
    "prob[torch.arange(32),Y]"
   ]
  },
  {
   "cell_type": "code",
   "execution_count": null,
   "metadata": {},
   "outputs": [
    {
     "data": {
      "text/plain": [
       "tensor(18.2943)"
      ]
     },
     "execution_count": 40,
     "metadata": {},
     "output_type": "execute_result"
    }
   ],
   "source": [
    "loss = -prob[torch.arange(32),Y].log().mean() #NLL! \n",
    "loss"
   ]
  },
  {
   "cell_type": "code",
   "execution_count": 41,
   "metadata": {},
   "outputs": [
    {
     "data": {
      "text/plain": [
       "(torch.Size([32, 3]), torch.Size([32]))"
      ]
     },
     "execution_count": 41,
     "metadata": {},
     "output_type": "execute_result"
    }
   ],
   "source": [
    "#Rewrite to make more respectable\n",
    "X.shape, Y.shape #Dataset"
   ]
  },
  {
   "cell_type": "code",
   "execution_count": 42,
   "metadata": {},
   "outputs": [],
   "source": [
    "g = torch.Generator().manual_seed(2147483647)\n",
    "C = torch.randn((27,2), generator=g)\n",
    "W1 = torch.randn((6,100),generator=g)\n",
    "b1 = torch.randn(100,generator=g)\n",
    "W2 = torch.randn((100,27),generator=g)\n",
    "b2= torch.randn(27,generator=g)\n",
    "parameters = [C,W1,b1,W2,b2]"
   ]
  },
  {
   "cell_type": "code",
   "execution_count": 43,
   "metadata": {},
   "outputs": [
    {
     "data": {
      "text/plain": [
       "3481"
      ]
     },
     "execution_count": 43,
     "metadata": {},
     "output_type": "execute_result"
    }
   ],
   "source": [
    "sum(p.nelement() for p in parameters) #number of params total for model :=)"
   ]
  },
  {
   "cell_type": "code",
   "execution_count": 44,
   "metadata": {},
   "outputs": [],
   "source": [
    "for p in parameters:\n",
    "    p.requires_grad = True"
   ]
  },
  {
   "cell_type": "code",
   "execution_count": 45,
   "metadata": {},
   "outputs": [
    {
     "data": {
      "text/plain": [
       "tensor([4.5079e-05, 3.3309e-04, 6.6903e-03, 9.9293e-01])"
      ]
     },
     "execution_count": 45,
     "metadata": {},
     "output_type": "execute_result"
    }
   ],
   "source": [
    "#This is basically very bad crossentropy. we just use the torch function instead. explained a bit more in the cell below this one \n",
    "logits_test = torch.tensor([-5,-3,0,5]) + 1#too positives of values give inf, we get out of our range exponentiating like this. you can add an arbitrary constant to all of ur logits. prebuilt crossentropy does this for ur most positive logit to make sure we don't get such a large count that its infintie\n",
    "counts_t = logits_test.exp()\n",
    "probs_T = counts_t / counts_t.sum()\n",
    "probs_T"
   ]
  },
  {
   "cell_type": "code",
   "execution_count": 75,
   "metadata": {},
   "outputs": [
    {
     "name": "stdout",
     "output_type": "stream",
     "text": [
      "0.2527373135089874\n",
      "0.25273633003234863\n",
      "0.25273650884628296\n",
      "0.2527354955673218\n",
      "0.2527356743812561\n",
      "0.2527346611022949\n",
      "0.25273483991622925\n",
      "0.25273382663726807\n",
      "0.2527340054512024\n",
      "0.252733051776886\n",
      "Final:0.252733051776886\n"
     ]
    }
   ],
   "source": [
    "for _ in range(10):\n",
    "#forward pass: prebuilt crossentropy instead of doing it this awful way:\n",
    "    emb = C[X] # (32,3,2)\n",
    "    h = torch.tanh(emb.view(-1,6)@W1 + b1) #(32,100)\n",
    "    logits = h @ W2 + b2 # (32,27)\n",
    "    loss = F.cross_entropy(logits,Y) #MUCH better, do this. makes everything much more efficient, the backwards pass gets faster too. This is explored in the cell above\n",
    "    #pytorch also subtracts the max value from each value so we don't run into numerical awfulness by acidentally doing exp(100) which makes our integer representation shit itself into an inf\n",
    "    print(loss.item())\n",
    "    #counts = logits.exp()\n",
    "    #prob = counts / counts.sum(1,keepdims = True)\n",
    "    #loss = -prob[torch.arange(32),Y].log().mean()\n",
    "\n",
    "    #backward pass! \n",
    "    for p in parameters:\n",
    "        p.grad = None\n",
    "    loss.backward()\n",
    "    #update\n",
    "    for p in parameters:\n",
    "        p.data += -0.1 * p.grad\n",
    "\n",
    "print(\"Final:\" + str(loss.item()))"
   ]
  },
  {
   "cell_type": "code",
   "execution_count": 155,
   "metadata": {},
   "outputs": [],
   "source": [
    "#let's build the dataset\n",
    "block_size = 3 #context length: how many chars do we take to predict the next one?\n",
    "X,Y = [], []\n",
    "for w in words:\n",
    "    #print(w)\n",
    "    context = [0]*block_size\n",
    "    for ch in w + '.':\n",
    "        ix = stoi[ch]\n",
    "        X.append(context)\n",
    "        Y.append(ix)\n",
    "        #print(''.join(itos[i] for i in context), '-->', itos[ix])\n",
    "        context = context[1:] + [ix]\n",
    "\n",
    "X = torch.tensor(X)\n",
    "Y = torch.tensor(Y)"
   ]
  },
  {
   "cell_type": "code",
   "execution_count": 162,
   "metadata": {},
   "outputs": [],
   "source": [
    "#we overfit one batch in the example above. before when initialising out X and Y, we had words[:5], we're gonna get rid of the slicing and just use the entire dataset. \n",
    "#Once we did train on the entire dataset in one go, as we saw above, it was incredibly slow. around a second per epoch, which is bad if we want thousands. \n",
    "#we gotta do batching. rewriting model below so we have both versions for educational purposes\n",
    "g = torch.Generator().manual_seed(2147483647)\n",
    "C = torch.randn((27,2), generator=g)\n",
    "W1 = torch.randn((6,100),generator=g)\n",
    "b1 = torch.randn(100,generator=g)\n",
    "W2 = torch.randn((100,27),generator=g)\n",
    "b2= torch.randn(27,generator=g)\n",
    "parameters = [C,W1,b1,W2,b2]"
   ]
  },
  {
   "cell_type": "code",
   "execution_count": 163,
   "metadata": {},
   "outputs": [
    {
     "data": {
      "text/plain": [
       "3481"
      ]
     },
     "execution_count": 163,
     "metadata": {},
     "output_type": "execute_result"
    }
   ],
   "source": [
    "sum(p.nelement() for p in parameters) #number of params total for model :=)"
   ]
  },
  {
   "cell_type": "code",
   "execution_count": 164,
   "metadata": {},
   "outputs": [],
   "source": [
    "for p in parameters:\n",
    "    p.requires_grad = True"
   ]
  },
  {
   "cell_type": "code",
   "execution_count": 152,
   "metadata": {},
   "outputs": [],
   "source": [
    "#below we figured out through trial and error that the best LR is prolly between 0.001 and 1. lets use that as a search space\n",
    "lrE= torch.linspace(-3,0,1000)\n",
    "lrs = 10**lrE\n",
    "#lrs"
   ]
  },
  {
   "cell_type": "code",
   "execution_count": 169,
   "metadata": {},
   "outputs": [
    {
     "name": "stdout",
     "output_type": "stream",
     "text": [
      "Final:2.254077196121216\n"
     ]
    }
   ],
   "source": [
    "lri = []\n",
    "lossi = []\n",
    "for i in range(10000):\n",
    "#forward pass: prebuilt crossentropy instead of doing it this awful way, AND WITH BATCHING :) \n",
    "\n",
    "    #mninibatch construct\n",
    "    ix = torch.randint(0,X.shape[0], (32,)) #generates 32 random numbers between 0 and the highest val number in X. indices that we will pass into C[x] below to grab 32 random examples from our dataset   \n",
    "    emb = C[X[ix]] # (32,3,2)\n",
    "    h = torch.tanh(emb.view(-1,6)@W1 + b1) #(32,100)\n",
    "    logits = h @ W2 + b2 # (32,27)\n",
    "    loss = F.cross_entropy(logits,Y[ix]) #MUCH better, do this. makes everything much more efficient, the backwards pass gets faster too. This is explored in the cell above\n",
    "    #print(loss.item())\n",
    "    #counts = logits.exp()\n",
    "    #prob = counts / counts.sum(1,keepdims = True)\n",
    "    #loss = -prob[torch.arange(32),Y].log().mean()\n",
    "\n",
    "    #backward pass! \n",
    "    for p in parameters:\n",
    "        p.grad = None\n",
    "    loss.backward()\n",
    "    #update, but with learning rate indexing over our linear jumps over the exponents of our learning rate range\n",
    "    #lr = lrs[i]\n",
    "    lr = 0.01 #we did a search for the best LR and found that its exponent was optimal at -1, so we know that 0.1 is a pretty good learning rate. we do a LR decay after running a couple 10 thousand of each LR. \n",
    "    for p in parameters:\n",
    "        p.data += -lr * p.grad\n",
    "    #tracking stats to find best LR\n",
    "    #lri.append(lrE[i])\n",
    "    #lossi.append(loss.item())\n",
    "\n",
    "print(\"Final:\" + str(loss.item()))"
   ]
  },
  {
   "cell_type": "code",
   "execution_count": 146,
   "metadata": {},
   "outputs": [
    {
     "data": {
      "text/plain": [
       "Text(0, 0.5, 'Loss for corresponding learning rate')"
      ]
     },
     "execution_count": 146,
     "metadata": {},
     "output_type": "execute_result"
    },
    {
     "data": {
      "image/png": "[encoded data removed]",
      "text/plain": [
       "<Figure size 640x480 with 1 Axes>"
      ]
     },
     "metadata": {},
     "output_type": "display_data"
    }
   ],
   "source": [
    "plt.plot(lri,lossi)\n",
    "plt.xlabel(\"Learning Rate\")\n",
    "plt.ylabel(\"Loss for corresponding learning rate\")"
   ]
  },
  {
   "cell_type": "code",
   "execution_count": 170,
   "metadata": {},
   "outputs": [
    {
     "data": {
      "text/plain": [
       "tensor(2.3120, grad_fn=<NllLossBackward0>)"
      ]
     },
     "execution_count": 170,
     "metadata": {},
     "output_type": "execute_result"
    }
   ],
   "source": [
    "#above is the loss for only one minibatch. let's evaluate for all of X and all of Y\n",
    "emb = C[X]\n",
    "h = torch.tanh(emb.view(-1,6)@W1 + b1) #(32,100)\n",
    "logits = h @ W2 + b2 # (32,27)\n",
    "loss = F.cross_entropy(logits,Y)\n",
    "loss"
   ]
  },
  {
   "cell_type": "code",
   "execution_count": 171,
   "metadata": {},
   "outputs": [
    {
     "name": "stdout",
     "output_type": "stream",
     "text": [
      "torch.Size([182625, 3]) torch.Size([182625])\n",
      "torch.Size([22655, 3]) torch.Size([22655])\n",
      "torch.Size([22866, 3]) torch.Size([22866])\n"
     ]
    }
   ],
   "source": [
    "#now obviously we haven't done a train test split. this is bad. \n",
    "#training split, dev/validation split, test split\n",
    "#80%, 10%, 10%\n",
    "#80% is used to optimize parameters, validation split is used to optimize hyperparameters, test split is for testing\n",
    "def build_dataset(words):\n",
    "    block_size = 3\n",
    "    X,Y = [], []\n",
    "    for w in words:\n",
    "        context = [0] * block_size\n",
    "        for ch in w + '.':\n",
    "            ix = stoi[ch]\n",
    "            X.append(context)\n",
    "            Y.append(ix)\n",
    "            context = context[1:] + [ix]\n",
    "    X = torch.tensor(X)\n",
    "    Y = torch.tensor(Y)\n",
    "    print(X.shape,Y.shape)\n",
    "    return X,Y\n",
    "\n",
    "import random\n",
    "random.seed(42)\n",
    "random.shuffle(words)\n",
    "n1 = int(0.8*len(words))\n",
    "n2 = int(0.9*len(words))\n",
    "Xtr, Ytr = build_dataset(words[:n1])\n",
    "Xdev,Ydev = build_dataset(words[n1:n2])\n",
    "Xte,Yte = build_dataset(words[n2:])"
   ]
  },
  {
   "cell_type": "code",
   "execution_count": 172,
   "metadata": {},
   "outputs": [
    {
     "data": {
      "text/plain": [
       "(torch.Size([182625, 3]), torch.Size([182625]))"
      ]
     },
     "execution_count": 172,
     "metadata": {},
     "output_type": "execute_result"
    }
   ],
   "source": [
    "#Now made respectable ver2:\n",
    "Xtr.shape, Ytr.shape"
   ]
  },
  {
   "cell_type": "code",
   "execution_count": 173,
   "metadata": {},
   "outputs": [],
   "source": [
    "g = torch.Generator().manual_seed(2147483647)\n",
    "C = torch.randn((27,2), generator=g)\n",
    "W1 = torch.randn((6,100),generator=g)\n",
    "b1 = torch.randn(100,generator=g)\n",
    "W2 = torch.randn((100,27),generator=g)\n",
    "b2= torch.randn(27,generator=g)\n",
    "parameters = [C,W1,b1,W2,b2]"
   ]
  },
  {
   "cell_type": "code",
   "execution_count": 174,
   "metadata": {},
   "outputs": [
    {
     "data": {
      "text/plain": [
       "3481"
      ]
     },
     "execution_count": 174,
     "metadata": {},
     "output_type": "execute_result"
    }
   ],
   "source": [
    "sum(p.nelement() for p in parameters) #number of params total for model :=)"
   ]
  },
  {
   "cell_type": "code",
   "execution_count": 175,
   "metadata": {},
   "outputs": [],
   "source": [
    "for p in parameters:\n",
    "    p.requires_grad = True"
   ]
  },
  {
   "cell_type": "code",
   "execution_count": 176,
   "metadata": {},
   "outputs": [],
   "source": [
    "#below we figured out through trial and error that the best LR is prolly between 0.001 and 1. lets use that as a search space\n",
    "lrE= torch.linspace(-3,0,1000)\n",
    "lrs = 10**lrE"
   ]
  },
  {
   "cell_type": "code",
   "execution_count": 181,
   "metadata": {},
   "outputs": [
    {
     "name": "stdout",
     "output_type": "stream",
     "text": [
      "Final:2.1239678859710693\n"
     ]
    }
   ],
   "source": [
    "lri = []\n",
    "lossi = []\n",
    "for i in range(10000):\n",
    "#forward pass: prebuilt crossentropy instead of doing it this awful way, AND WITH BATCHING :) \n",
    "\n",
    "    #mninibatch construct\n",
    "    ix = torch.randint(0,Xtr.shape[0], (32,)) #generates 32 random numbers between 0 and the highest val number in X. indices that we will pass into C[x] below to grab 32 random examples from our dataset   \n",
    "    emb = C[Xtr[ix]] # (32,3,2)\n",
    "    h = torch.tanh(emb.view(-1,6)@W1 + b1) #(32,100)\n",
    "    logits = h @ W2 + b2 # (32,27)\n",
    "    loss = F.cross_entropy(logits,Ytr[ix]) #MUCH better, do this. makes everything much more efficient, the backwards pass gets faster too. This is explored in the cell above\n",
    "    #print(loss.item())\n",
    "    #counts = logits.exp()\n",
    "    #prob = counts / counts.sum(1,keepdims = True)\n",
    "    #loss = -prob[torch.arange(32),Y].log().mean()\n",
    "\n",
    "    #backward pass! \n",
    "    for p in parameters:\n",
    "        p.grad = None\n",
    "    loss.backward()\n",
    "    #update, but with learning rate indexing over our linear jumps over the exponents of our learning rate range\n",
    "    #lr = lrs[i]\n",
    "    lr = 0.01 #we did a search for the best LR and found that its exponent was optimal at -1, so we know that 0.1 is a pretty good learning rate. we do a LR decay after running a couple 10 thousand of each LR. \n",
    "    for p in parameters:\n",
    "        p.data += -lr * p.grad\n",
    "    #tracking stats to find best LR\n",
    "    #lri.append(lrE[i])\n",
    "    #lossi.append(loss.item())\n",
    "\n",
    "print(\"Final:\" + str(loss.item()))"
   ]
  },
  {
   "cell_type": "code",
   "execution_count": 182,
   "metadata": {},
   "outputs": [
    {
     "data": {
      "text/plain": [
       "tensor(2.3344, grad_fn=<NllLossBackward0>)"
      ]
     },
     "execution_count": 182,
     "metadata": {},
     "output_type": "execute_result"
    }
   ],
   "source": [
    "#above is the loss for only one minibatch. let's evaluate for Xdev and Ydev\n",
    "emb = C[Xdev]\n",
    "h = torch.tanh(emb.view(-1,6)@W1 + b1) #(32,100)\n",
    "logits = h @ W2 + b2 # (32,27)\n",
    "loss = F.cross_entropy(logits,Ydev)\n",
    "loss"
   ]
  },
  {
   "cell_type": "code",
   "execution_count": 183,
   "metadata": {},
   "outputs": [
    {
     "data": {
      "text/plain": [
       "tensor(2.3360, grad_fn=<NllLossBackward0>)"
      ]
     },
     "execution_count": 183,
     "metadata": {},
     "output_type": "execute_result"
    }
   ],
   "source": [
    "#above is the loss for only one minibatch. let's evaluate for Xte and Yte\n",
    "emb = C[Xte]\n",
    "h = torch.tanh(emb.view(-1,6)@W1 + b1) #(32,100)\n",
    "logits = h @ W2 + b2 # (32,27)\n",
    "loss = F.cross_entropy(logits,Yte)\n",
    "loss"
   ]
  },
  {
   "cell_type": "code",
   "execution_count": 200,
   "metadata": {},
   "outputs": [],
   "source": [
    "#Looks like we're underfitting; validation loss and test loss seem to be identical. let's make this network bigger :) \n",
    "g = torch.Generator().manual_seed(2147483647)\n",
    "C = torch.randn((27,2), generator=g)\n",
    "W1 = torch.randn((6,300),generator=g)\n",
    "b1 = torch.randn(300,generator=g)\n",
    "W2 = torch.randn((300,27),generator=g)\n",
    "b2= torch.randn(27,generator=g)\n",
    "parameters = [C,W1,b1,W2,b2]"
   ]
  },
  {
   "cell_type": "code",
   "execution_count": 201,
   "metadata": {},
   "outputs": [
    {
     "data": {
      "text/plain": [
       "10281"
      ]
     },
     "execution_count": 201,
     "metadata": {},
     "output_type": "execute_result"
    }
   ],
   "source": [
    "sum(p.nelement() for p in parameters) #number of params total for model :=)"
   ]
  },
  {
   "cell_type": "code",
   "execution_count": 202,
   "metadata": {},
   "outputs": [],
   "source": [
    "for p in parameters:\n",
    "    p.requires_grad = True"
   ]
  },
  {
   "cell_type": "code",
   "execution_count": 203,
   "metadata": {},
   "outputs": [],
   "source": [
    "#below we figured out through trial and error that the best LR is prolly between 0.001 and 1. lets use that as a search space\n",
    "lrE= torch.linspace(-3,0,1000)\n",
    "lrs = 10**lrE"
   ]
  },
  {
   "cell_type": "code",
   "execution_count": 199,
   "metadata": {},
   "outputs": [],
   "source": [
    "lossi = []\n",
    "stepi = []"
   ]
  },
  {
   "cell_type": "code",
   "execution_count": 206,
   "metadata": {},
   "outputs": [
    {
     "name": "stdout",
     "output_type": "stream",
     "text": [
      "Final:2.274174690246582\n"
     ]
    }
   ],
   "source": [
    "\n",
    "for i in range(25000):\n",
    "#forward pass: prebuilt crossentropy instead of doing it this awful way, AND WITH BATCHING :) \n",
    "\n",
    "    #mninibatch construct\n",
    "    ix = torch.randint(0,Xtr.shape[0], (32,)) #generates 32 random numbers between 0 and the highest val number in X. indices that we will pass into C[x] below to grab 32 random examples from our dataset   \n",
    "    emb = C[Xtr[ix]] # (32,3,2)\n",
    "    h = torch.tanh(emb.view(-1,6)@W1 + b1) #(32,100)\n",
    "    logits = h @ W2 + b2 # (32,27)\n",
    "    loss = F.cross_entropy(logits,Ytr[ix]) #MUCH better, do this. makes everything much more efficient, the backwards pass gets faster too. This is explored in the cell above\n",
    "    #print(loss.item())\n",
    "    #counts = logits.exp()\n",
    "    #prob = counts / counts.sum(1,keepdims = True)\n",
    "    #loss = -prob[torch.arange(32),Y].log().mean()\n",
    "\n",
    "    #backward pass! \n",
    "    for p in parameters:\n",
    "        p.grad = None\n",
    "    loss.backward()\n",
    "    #update, but with learning rate indexing over our linear jumps over the exponents of our learning rate range\n",
    "    #lr = lrs[i]\n",
    "    lr = 0.005 #we did a search for the best LR and found that its exponent was optimal at -1, so we know that 0.1 (at least to begin with) is a pretty good learning rate. we do a LR decay after running a couple 10 thousand of each LR. \n",
    "    for p in parameters:\n",
    "        p.data += -lr * p.grad\n",
    "    #tracking stats to find best LR\n",
    "    stepi.append(i)\n",
    "    #lri.append(lrE[i])\n",
    "    lossi.append(loss.item())\n",
    "\n",
    "print(\"Final:\" + str(loss.item()))"
   ]
  },
  {
   "cell_type": "code",
   "execution_count": 207,
   "metadata": {},
   "outputs": [
    {
     "data": {
      "text/plain": [
       "Text(0, 0.5, 'Loss (Negative Logarithmic Likelihood)')"
      ]
     },
     "execution_count": 207,
     "metadata": {},
     "output_type": "execute_result"
    },
    {
     "data": {
      "image/png": "[encoded data removed]",
      "text/plain": [
       "<Figure size 640x480 with 1 Axes>"
      ]
     },
     "metadata": {},
     "output_type": "display_data"
    }
   ],
   "source": [
    "plt.plot(stepi,lossi)\n",
    "plt.xlabel(\"Step Number\")\n",
    "plt.ylabel(\"Loss (Negative Logarithmic Likelihood)\")"
   ]
  },
  {
   "cell_type": "code",
   "execution_count": 208,
   "metadata": {},
   "outputs": [
    {
     "data": {
      "text/plain": [
       "tensor(2.2979, grad_fn=<NllLossBackward0>)"
      ]
     },
     "execution_count": 208,
     "metadata": {},
     "output_type": "execute_result"
    }
   ],
   "source": [
    "#let's evaluate for Xdev and Ydev\n",
    "emb = C[Xdev]\n",
    "h = torch.tanh(emb.view(-1,6)@W1 + b1) #(32,100)\n",
    "logits = h @ W2 + b2 # (32,27)\n",
    "loss = F.cross_entropy(logits,Ydev)\n",
    "loss"
   ]
  },
  {
   "cell_type": "code",
   "execution_count": 210,
   "metadata": {},
   "outputs": [
    {
     "data": {
      "text/plain": [
       "tensor(2.2972, grad_fn=<NllLossBackward0>)"
      ]
     },
     "execution_count": 210,
     "metadata": {},
     "output_type": "execute_result"
    }
   ],
   "source": [
    "#let's evaluate for Xte and Yte\n",
    "emb = C[Xtr]\n",
    "h = torch.tanh(emb.view(-1,6)@W1 + b1) #(32,100)\n",
    "logits = h @ W2 + b2 # (32,27)\n",
    "loss = F.cross_entropy(logits,Ytr)\n",
    "loss"
   ]
  },
  {
   "cell_type": "code",
   "execution_count": 209,
   "metadata": {},
   "outputs": [
    {
     "data": {
      "text/plain": [
       "tensor(2.3006, grad_fn=<NllLossBackward0>)"
      ]
     },
     "execution_count": 209,
     "metadata": {},
     "output_type": "execute_result"
    }
   ],
   "source": [
    "#let's evaluate for Xte and Yte\n",
    "emb = C[Xte]\n",
    "h = torch.tanh(emb.view(-1,6)@W1 + b1) #(32,100)\n",
    "logits = h @ W2 + b2 # (32,27)\n",
    "loss = F.cross_entropy(logits,Yte)\n",
    "loss"
   ]
  },
  {
   "cell_type": "code",
   "execution_count": 77,
   "metadata": {},
   "outputs": [
    {
     "data": {
      "image/png": "[encoded data removed]",
      "text/plain": [
       "<Figure size 800x800 with 1 Axes>"
      ]
     },
     "metadata": {},
     "output_type": "display_data"
    }
   ],
   "source": [
    "#a potential bottleneck is our dimensionality reduction of the look-up table down to 2 dimensions. this could lead to information loss that our model could use to make something even better.\n",
    "plt.figure(figsize=(8,8))\n",
    "plt.scatter(C[:,0].data, C[:,1].data, s=200)\n",
    "for i in range(C.shape[0]):\n",
    "    plt.text(C[i,0].item(),C[i,1].item(), itos[i], ha='center', va='center',color='white')\n",
    "plt.grid('minor')"
   ]
  },
  {
   "cell_type": "code",
   "execution_count": 211,
   "metadata": {},
   "outputs": [],
   "source": [
    "#now we're gonna be able to scale up the embedding size and we won't be able to visualise it anymore, but it will lead to an improvement in our performance. \n",
    "#we're still underfitting. we make model bigger, still underfitting, so embedding vectors might be bottleneck\n",
    "g = torch.Generator().manual_seed(2147483647)\n",
    "C = torch.randn((27,10), generator=g)\n",
    "W1 = torch.randn((30,200),generator=g)\n",
    "b1 = torch.randn(200,generator=g)\n",
    "W2 = torch.randn((200,27),generator=g)\n",
    "b2= torch.randn(27,generator=g)\n",
    "parameters = [C,W1,b1,W2,b2]"
   ]
  },
  {
   "cell_type": "code",
   "execution_count": 212,
   "metadata": {},
   "outputs": [
    {
     "data": {
      "text/plain": [
       "11897"
      ]
     },
     "execution_count": 212,
     "metadata": {},
     "output_type": "execute_result"
    }
   ],
   "source": [
    "sum(p.nelement() for p in parameters) #number of params total for model :=)"
   ]
  },
  {
   "cell_type": "code",
   "execution_count": 213,
   "metadata": {},
   "outputs": [],
   "source": [
    "for p in parameters:\n",
    "    p.requires_grad = True"
   ]
  },
  {
   "cell_type": "code",
   "execution_count": 214,
   "metadata": {},
   "outputs": [],
   "source": [
    "lri = []\n",
    "lossi = []\n",
    "stepi = []"
   ]
  },
  {
   "cell_type": "code",
   "execution_count": 215,
   "metadata": {},
   "outputs": [
    {
     "name": "stdout",
     "output_type": "stream",
     "text": [
      "Final:2.1368567943573\n"
     ]
    }
   ],
   "source": [
    "for i in range(200000):\n",
    "#forward pass: prebuilt crossentropy instead of doing it this awful way, AND WITH BATCHING :) \n",
    "\n",
    "    #mninibatch construct\n",
    "    ix = torch.randint(0,Xtr.shape[0], (32,)) #generates 32 random numbers between 0 and the highest val number in X. indices that we will pass into C[x] below to grab 32 random examples from our dataset   \n",
    "    emb = C[Xtr[ix]] # (32,3,2)\n",
    "    h = torch.tanh(emb.view(-1,30)@W1 + b1) #(32,100)\n",
    "    logits = h @ W2 + b2 # (32,27)\n",
    "    loss = F.cross_entropy(logits,Ytr[ix]) #MUCH better, do this. makes everything much more efficient, the backwards pass gets faster too. This is explored in the cell above\n",
    "    #print(loss.item())\n",
    "    #counts = logits.exp()\n",
    "    #prob = counts / counts.sum(1,keepdims = True)\n",
    "    #loss = -prob[torch.arange(32),Y].log().mean()\n",
    "\n",
    "    #backward pass! \n",
    "    for p in parameters:\n",
    "        p.grad = None\n",
    "    loss.backward()\n",
    "    #update, but with learning rate indexing over our linear jumps over the exponents of our learning rate range\n",
    "    #lr = lrs[i]\n",
    "    lr = 0.1 if i <100000 else 0.01 #we did a search for the best LR and found that its exponent was optimal at -1, so we know that 0.1 (at least to begin with) is a pretty good learning rate. we do a LR decay after running a couple 10 thousand of each LR. \n",
    "    for p in parameters:\n",
    "        p.data += -lr * p.grad\n",
    "    #tracking stats to find best LR\n",
    "    stepi.append(i)\n",
    "    #lri.append(lrE[i])\n",
    "    lossi.append(loss.log10().item())\n",
    "\n",
    "print(\"Final:\" + str(loss.item()))"
   ]
  },
  {
   "cell_type": "code",
   "execution_count": 216,
   "metadata": {},
   "outputs": [
    {
     "data": {
      "text/plain": [
       "Text(0, 0.5, 'Loss (Negative Logarithmic Likelihood)')"
      ]
     },
     "execution_count": 216,
     "metadata": {},
     "output_type": "execute_result"
    },
    {
     "data": {
      "image/png": "[encoded data removed]",
      "text/plain": [
       "<Figure size 640x480 with 1 Axes>"
      ]
     },
     "metadata": {},
     "output_type": "display_data"
    }
   ],
   "source": [
    "plt.plot(stepi,lossi)\n",
    "plt.xlabel(\"Step Number\")\n",
    "plt.ylabel(\"Loss (Negative Logarithmic Likelihood)\")"
   ]
  },
  {
   "cell_type": "code",
   "execution_count": 217,
   "metadata": {},
   "outputs": [
    {
     "data": {
      "text/plain": [
       "tensor(2.1738, grad_fn=<NllLossBackward0>)"
      ]
     },
     "execution_count": 217,
     "metadata": {},
     "output_type": "execute_result"
    }
   ],
   "source": [
    "#let's evaluate for Xdev and Ydev\n",
    "emb = C[Xdev]\n",
    "h = torch.tanh(emb.view(-1,30)@W1 + b1) #(32,100)\n",
    "logits = h @ W2 + b2 # (32,27)\n",
    "loss = F.cross_entropy(logits,Ydev)\n",
    "loss"
   ]
  },
  {
   "cell_type": "code",
   "execution_count": 219,
   "metadata": {},
   "outputs": [
    {
     "data": {
      "text/plain": [
       "tensor(2.1368, grad_fn=<NllLossBackward0>)"
      ]
     },
     "execution_count": 219,
     "metadata": {},
     "output_type": "execute_result"
    }
   ],
   "source": [
    "#let's evaluate for Xte and Yte\n",
    "emb = C[Xtr]\n",
    "h = torch.tanh(emb.view(-1,30)@W1 + b1) #(32,100)\n",
    "logits = h @ W2 + b2 # (32,27)\n",
    "loss = F.cross_entropy(logits,Ytr)\n",
    "loss"
   ]
  },
  {
   "cell_type": "code",
   "execution_count": 218,
   "metadata": {},
   "outputs": [
    {
     "data": {
      "text/plain": [
       "tensor(2.1804, grad_fn=<NllLossBackward0>)"
      ]
     },
     "execution_count": 218,
     "metadata": {},
     "output_type": "execute_result"
    }
   ],
   "source": [
    "#let's evaluate for Xte and Yte\n",
    "emb = C[Xte]\n",
    "h = torch.tanh(emb.view(-1,30)@W1 + b1) #(32,100)\n",
    "logits = h @ W2 + b2 # (32,27)\n",
    "loss = F.cross_entropy(logits,Yte)\n",
    "loss"
   ]
  },
  {
   "cell_type": "code",
   "execution_count": 222,
   "metadata": {},
   "outputs": [
    {
     "name": "stdout",
     "output_type": "stream",
     "text": [
      "mora.\n",
      "kmyanniee.\n",
      "med.\n",
      "ryla.\n",
      "rethan.\n",
      "emdon.\n",
      "graderedielin.\n",
      "shi.\n",
      "jen.\n",
      "eden.\n",
      "van.\n",
      "narielle.\n",
      "malaia.\n",
      "noshiberlihiriel.\n",
      "kindreelynn.\n",
      "nochorius.\n",
      "kynder.\n",
      "yarue.\n",
      "els.\n",
      "kayshia.\n"
     ]
    }
   ],
   "source": [
    "#Let's sample the model finally and enjoy the fruits of our labour\n",
    "g = torch.Generator().manual_seed(2147483647+10)\n",
    "\n",
    "for _ in range(20):\n",
    "    out = []\n",
    "    context = [0] * block_size\n",
    "    while True:\n",
    "        emb = C[torch.tensor([context])]\n",
    "        h = torch.tanh(emb.view(1,-1)@ W1 + b1)\n",
    "        logits = h @ W2 + b2\n",
    "        probs = F.softmax(logits, dim=1)\n",
    "        ix = torch.multinomial(probs,num_samples=1,generator=g).item()\n",
    "        context = context[1:]+ [ix]\n",
    "        out.append(ix)\n",
    "        if ix == 0:\n",
    "            break\n",
    "    print(''.join(itos[i] for i in out))"
   ]
  },
  {
   "cell_type": "code",
   "execution_count": 224,
   "metadata": {},
   "outputs": [
    {
     "name": "stdout",
     "output_type": "stream",
     "text": [
      "kayson.\n",
      "zamarias.\n",
      "amyira.\n",
      "aliyah.\n",
      "ede.\n",
      "lauli.\n",
      "jazasyayn.\n",
      "timontangreel.\n",
      "wellena.\n",
      "meisous.\n",
      "khaly.\n",
      "klin.\n",
      "roson.\n",
      "aydelin.\n",
      "kahtrag.\n",
      "yehilayah.\n",
      "ison.\n",
      "khidy.\n",
      "jak.\n",
      "ainya.\n"
     ]
    }
   ],
   "source": [
    "#Let's sample the model finally and enjoy the fruits of our labour\n",
    "\n",
    "for _ in range(20):\n",
    "    out = []\n",
    "    context = [0] * block_size\n",
    "    while True:\n",
    "        emb = C[torch.tensor([context])]\n",
    "        h = torch.tanh(emb.view(1,-1)@ W1 + b1)\n",
    "        logits = h @ W2 + b2\n",
    "        probs = F.softmax(logits, dim=1)\n",
    "        ix = torch.multinomial(probs,num_samples=1).item()\n",
    "        context = context[1:]+ [ix]\n",
    "        out.append(ix)\n",
    "        if ix == 0:\n",
    "            break\n",
    "    print(''.join(itos[i] for i in out))"
   ]
  }
 ],
 "metadata": {
  "kernelspec": {
   "display_name": "Python 3",
   "language": "python",
   "name": "python3"
  },
  "language_info": {
   "codemirror_mode": {
    "name": "ipython",
    "version": 3
   },
   "file_extension": ".py",
   "mimetype": "text/x-python",
   "name": "python",
   "nbconvert_exporter": "python",
   "pygments_lexer": "ipython3",
   "version": "3.10.11"
  }
 },
 "nbformat": 4,
 "nbformat_minor": 2
}
