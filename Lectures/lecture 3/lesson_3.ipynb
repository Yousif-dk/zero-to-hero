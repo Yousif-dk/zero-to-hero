{
 "cells": [
  {
   "cell_type": "code",
   "execution_count": 2,
   "metadata": {},
   "outputs": [],
   "source": [
    "#MLP to predict next char in sequence. \n",
    "import torch\n",
    "import torch.nn.functional as F\n",
    "import matplotlib.pyplot as plt #for figs\n",
    "%matplotlib inline"
   ]
  },
  {
   "cell_type": "code",
   "execution_count": 4,
   "metadata": {},
   "outputs": [
    {
     "data": {
      "text/plain": [
       "['emma', 'olivia', 'ava', 'isabella', 'sophia', 'charlotte', 'mia', 'amelia']"
      ]
     },
     "execution_count": 4,
     "metadata": {},
     "output_type": "execute_result"
    }
   ],
   "source": [
    "words = open('../lecture 2/names.txt','r').read().splitlines()\n",
    "words[:8]"
   ]
  },
  {
   "cell_type": "code",
   "execution_count": 6,
   "metadata": {},
   "outputs": [
    {
     "data": {
      "text/plain": [
       "32033"
      ]
     },
     "execution_count": 6,
     "metadata": {},
     "output_type": "execute_result"
    }
   ],
   "source": [
    "len(words)"
   ]
  },
  {
   "cell_type": "code",
   "execution_count": 7,
   "metadata": {},
   "outputs": [
    {
     "name": "stdout",
     "output_type": "stream",
     "text": [
      "{1: 'a', 2: 'b', 3: 'c', 4: 'd', 5: 'e', 6: 'f', 7: 'g', 8: 'h', 9: 'i', 10: 'j', 11: 'k', 12: 'l', 13: 'm', 14: 'n', 15: 'o', 16: 'p', 17: 'q', 18: 'r', 19: 's', 20: 't', 21: 'u', 22: 'v', 23: 'w', 24: 'x', 25: 'y', 26: 'z', 0: '.'}\n"
     ]
    }
   ],
   "source": [
    "#building the vocab of chars and mappings to/from integers\n",
    "chars = sorted(list(set(''.join(words))))\n",
    "stoi = {s:i+1 for i,s in enumerate(chars)}\n",
    "stoi['.'] = 0\n",
    "itos = {i:s for s,i in stoi.items()}\n",
    "print(itos)"
   ]
  },
  {
   "cell_type": "code",
   "execution_count": 82,
   "metadata": {},
   "outputs": [],
   "source": [
    "#let's build the dataset\n",
    "block_size = 3 #context length: how many chars do we take to predict the next one?\n",
    "X,Y = [], []\n",
    "for w in words:\n",
    "    #print(w)\n",
    "    context = [0]*block_size\n",
    "    for ch in w + '.':\n",
    "        ix = stoi[ch]\n",
    "        X.append(context)\n",
    "        Y.append(ix)\n",
    "        #print(''.join(itos[i] for i in context), '-->', itos[ix])\n",
    "        context = context[1:] + [ix]\n",
    "\n",
    "X = torch.tensor(X)\n",
    "Y = torch.tensor(Y)"
   ]
  },
  {
   "cell_type": "code",
   "execution_count": 12,
   "metadata": {},
   "outputs": [
    {
     "data": {
      "text/plain": [
       "(torch.Size([32, 3]), torch.int64, torch.Size([32]), torch.int64)"
      ]
     },
     "execution_count": 12,
     "metadata": {},
     "output_type": "execute_result"
    }
   ],
   "source": [
    "X.shape, X.dtype, Y.shape,Y.dtype"
   ]
  },
  {
   "cell_type": "code",
   "execution_count": 15,
   "metadata": {},
   "outputs": [],
   "source": [
    "#27 possible chars, embed them in a lower dimensional space. each one of our 27 chars will have a 2D embedding\n",
    "C = torch.randn((27,2))"
   ]
  },
  {
   "cell_type": "code",
   "execution_count": 17,
   "metadata": {},
   "outputs": [
    {
     "data": {
      "text/plain": [
       "tensor([-0.0332,  0.9312])"
      ]
     },
     "execution_count": 17,
     "metadata": {},
     "output_type": "execute_result"
    }
   ],
   "source": [
    "C[5]"
   ]
  },
  {
   "cell_type": "code",
   "execution_count": 22,
   "metadata": {},
   "outputs": [
    {
     "data": {
      "text/plain": [
       "tensor([-0.0332,  0.9312])"
      ]
     },
     "execution_count": 22,
     "metadata": {},
     "output_type": "execute_result"
    }
   ],
   "source": [
    "F.one_hot(torch.tensor(5),num_classes=27).float() @ C #THIS IS THE SAME RESULT BECAUSE OF HOW MATMUL WORKS! ITS AN ELEMENTWISE MULTIPLICATION OF EACH ROW. THE ONEHOT VECTOR IS JUST \n",
    "                                                      #ALL ZEROS AND A 1 FOR THE CORRESPONDING NUMBER, SO THE MATMUL WE DO HERE JUST MASKS OUT THE ENTIRE THING EXCEPT FOR THE ELEMENT WE WANT\n",
    "                                                      #We won't do this because its completely unneccesary but my third eye has been opened"
   ]
  },
  {
   "cell_type": "code",
   "execution_count": 26,
   "metadata": {},
   "outputs": [
    {
     "data": {
      "text/plain": [
       "tensor([[-0.0332,  0.9312],\n",
       "        [-0.3310, -0.3674],\n",
       "        [-0.7762,  0.3578],\n",
       "        [-0.7762,  0.3578],\n",
       "        [-0.7762,  0.3578],\n",
       "        [-0.7762,  0.3578]])"
      ]
     },
     "execution_count": 26,
     "metadata": {},
     "output_type": "execute_result"
    }
   ],
   "source": [
    "C[torch.tensor([5,6,7,7,7,7])] #this is just to show that you can index into a pytorch tensor with a different tensor, which is why the following works:"
   ]
  },
  {
   "cell_type": "code",
   "execution_count": 28,
   "metadata": {},
   "outputs": [
    {
     "data": {
      "text/plain": [
       "tensor([[[ 1.2954,  1.7474],\n",
       "         [ 1.2954,  1.7474],\n",
       "         [ 1.2954,  1.7474]],\n",
       "\n",
       "        [[ 1.2954,  1.7474],\n",
       "         [ 1.2954,  1.7474],\n",
       "         [-0.0332,  0.9312]],\n",
       "\n",
       "        [[ 1.2954,  1.7474],\n",
       "         [-0.0332,  0.9312],\n",
       "         [ 1.0514,  0.6870]],\n",
       "\n",
       "        [[-0.0332,  0.9312],\n",
       "         [ 1.0514,  0.6870],\n",
       "         [ 1.0514,  0.6870]],\n",
       "\n",
       "        [[ 1.0514,  0.6870],\n",
       "         [ 1.0514,  0.6870],\n",
       "         [ 0.0270, -0.5449]],\n",
       "\n",
       "        [[ 1.2954,  1.7474],\n",
       "         [ 1.2954,  1.7474],\n",
       "         [ 1.2954,  1.7474]],\n",
       "\n",
       "        [[ 1.2954,  1.7474],\n",
       "         [ 1.2954,  1.7474],\n",
       "         [ 0.4848,  0.0448]],\n",
       "\n",
       "        [[ 1.2954,  1.7474],\n",
       "         [ 0.4848,  0.0448],\n",
       "         [-1.2501,  0.2089]],\n",
       "\n",
       "        [[ 0.4848,  0.0448],\n",
       "         [-1.2501,  0.2089],\n",
       "         [-0.0754,  0.6725]],\n",
       "\n",
       "        [[-1.2501,  0.2089],\n",
       "         [-0.0754,  0.6725],\n",
       "         [ 1.5591, -0.2297]],\n",
       "\n",
       "        [[-0.0754,  0.6725],\n",
       "         [ 1.5591, -0.2297],\n",
       "         [-0.0754,  0.6725]],\n",
       "\n",
       "        [[ 1.5591, -0.2297],\n",
       "         [-0.0754,  0.6725],\n",
       "         [ 0.0270, -0.5449]],\n",
       "\n",
       "        [[ 1.2954,  1.7474],\n",
       "         [ 1.2954,  1.7474],\n",
       "         [ 1.2954,  1.7474]],\n",
       "\n",
       "        [[ 1.2954,  1.7474],\n",
       "         [ 1.2954,  1.7474],\n",
       "         [ 0.0270, -0.5449]],\n",
       "\n",
       "        [[ 1.2954,  1.7474],\n",
       "         [ 0.0270, -0.5449],\n",
       "         [ 1.5591, -0.2297]],\n",
       "\n",
       "        [[ 0.0270, -0.5449],\n",
       "         [ 1.5591, -0.2297],\n",
       "         [ 0.0270, -0.5449]],\n",
       "\n",
       "        [[ 1.2954,  1.7474],\n",
       "         [ 1.2954,  1.7474],\n",
       "         [ 1.2954,  1.7474]],\n",
       "\n",
       "        [[ 1.2954,  1.7474],\n",
       "         [ 1.2954,  1.7474],\n",
       "         [-0.0754,  0.6725]],\n",
       "\n",
       "        [[ 1.2954,  1.7474],\n",
       "         [-0.0754,  0.6725],\n",
       "         [-0.1718,  1.4463]],\n",
       "\n",
       "        [[-0.0754,  0.6725],\n",
       "         [-0.1718,  1.4463],\n",
       "         [ 0.0270, -0.5449]],\n",
       "\n",
       "        [[-0.1718,  1.4463],\n",
       "         [ 0.0270, -0.5449],\n",
       "         [ 0.2758, -1.4619]],\n",
       "\n",
       "        [[ 0.0270, -0.5449],\n",
       "         [ 0.2758, -1.4619],\n",
       "         [-0.0332,  0.9312]],\n",
       "\n",
       "        [[ 0.2758, -1.4619],\n",
       "         [-0.0332,  0.9312],\n",
       "         [-1.2501,  0.2089]],\n",
       "\n",
       "        [[-0.0332,  0.9312],\n",
       "         [-1.2501,  0.2089],\n",
       "         [-1.2501,  0.2089]],\n",
       "\n",
       "        [[-1.2501,  0.2089],\n",
       "         [-1.2501,  0.2089],\n",
       "         [ 0.0270, -0.5449]],\n",
       "\n",
       "        [[ 1.2954,  1.7474],\n",
       "         [ 1.2954,  1.7474],\n",
       "         [ 1.2954,  1.7474]],\n",
       "\n",
       "        [[ 1.2954,  1.7474],\n",
       "         [ 1.2954,  1.7474],\n",
       "         [-0.1718,  1.4463]],\n",
       "\n",
       "        [[ 1.2954,  1.7474],\n",
       "         [-0.1718,  1.4463],\n",
       "         [ 0.4848,  0.0448]],\n",
       "\n",
       "        [[-0.1718,  1.4463],\n",
       "         [ 0.4848,  0.0448],\n",
       "         [-1.8553,  0.5186]],\n",
       "\n",
       "        [[ 0.4848,  0.0448],\n",
       "         [-1.8553,  0.5186],\n",
       "         [-0.2324, -2.6709]],\n",
       "\n",
       "        [[-1.8553,  0.5186],\n",
       "         [-0.2324, -2.6709],\n",
       "         [-0.0754,  0.6725]],\n",
       "\n",
       "        [[-0.2324, -2.6709],\n",
       "         [-0.0754,  0.6725],\n",
       "         [ 0.0270, -0.5449]]])"
      ]
     },
     "execution_count": 28,
     "metadata": {},
     "output_type": "execute_result"
    }
   ],
   "source": [
    "C[X] #oh my god"
   ]
  },
  {
   "cell_type": "code",
   "execution_count": 29,
   "metadata": {},
   "outputs": [
    {
     "data": {
      "text/plain": [
       "torch.Size([32, 3, 2])"
      ]
     },
     "execution_count": 29,
     "metadata": {},
     "output_type": "execute_result"
    }
   ],
   "source": [
    "C[X].shape"
   ]
  },
  {
   "cell_type": "code",
   "execution_count": 30,
   "metadata": {},
   "outputs": [
    {
     "data": {
      "text/plain": [
       "tensor(1)"
      ]
     },
     "execution_count": 30,
     "metadata": {},
     "output_type": "execute_result"
    }
   ],
   "source": [
    "X[13,2]"
   ]
  },
  {
   "cell_type": "code",
   "execution_count": 31,
   "metadata": {},
   "outputs": [
    {
     "data": {
      "text/plain": [
       "tensor([ 0.0270, -0.5449])"
      ]
     },
     "execution_count": 31,
     "metadata": {},
     "output_type": "execute_result"
    }
   ],
   "source": [
    "C[X][13,2]"
   ]
  },
  {
   "cell_type": "code",
   "execution_count": 32,
   "metadata": {},
   "outputs": [
    {
     "data": {
      "text/plain": [
       "tensor([ 0.0270, -0.5449])"
      ]
     },
     "execution_count": 32,
     "metadata": {},
     "output_type": "execute_result"
    }
   ],
   "source": [
    "C[1]"
   ]
  },
  {
   "cell_type": "code",
   "execution_count": 33,
   "metadata": {},
   "outputs": [
    {
     "data": {
      "text/plain": [
       "torch.Size([32, 3, 2])"
      ]
     },
     "execution_count": 33,
     "metadata": {},
     "output_type": "execute_result"
    }
   ],
   "source": [
    "#Pytorch embedding is awesome. \n",
    "emb = C[X]\n",
    "emb.shape"
   ]
  },
  {
   "cell_type": "code",
   "execution_count": 34,
   "metadata": {},
   "outputs": [],
   "source": [
    "W1 = torch.randn((6,100)) #100 neurons\n",
    "b1 = torch.randn(100)"
   ]
  },
  {
   "cell_type": "code",
   "execution_count": 35,
   "metadata": {},
   "outputs": [
    {
     "ename": "RuntimeError",
     "evalue": "mat1 and mat2 shapes cannot be multiplied (96x2 and 6x100)",
     "output_type": "error",
     "traceback": [
      "\u001b[1;31m---------------------------------------------------------------------------\u001b[0m",
      "\u001b[1;31mRuntimeError\u001b[0m                              Traceback (most recent call last)",
      "Cell \u001b[1;32mIn[35], line 1\u001b[0m\n\u001b[1;32m----> 1\u001b[0m \u001b[43memb\u001b[49m\u001b[43m \u001b[49m\u001b[38;5;241;43m@\u001b[39;49m\u001b[43m \u001b[49m\u001b[43mW1\u001b[49m \u001b[38;5;241m+\u001b[39m b1\n",
      "\u001b[1;31mRuntimeError\u001b[0m: mat1 and mat2 shapes cannot be multiplied (96x2 and 6x100)"
     ]
    }
   ],
   "source": [
    "emb @ W1 + b1 #doesn't work currently, dimensional issues"
   ]
  },
  {
   "cell_type": "code",
   "execution_count": 40,
   "metadata": {},
   "outputs": [
    {
     "data": {
      "text/plain": [
       "torch.Size([32, 6])"
      ]
     },
     "execution_count": 40,
     "metadata": {},
     "output_type": "execute_result"
    }
   ],
   "source": [
    "torch.cat([emb[:,0,:],  emb[:,0,:], emb[:,0,:]],1).shape"
   ]
  },
  {
   "cell_type": "code",
   "execution_count": 43,
   "metadata": {},
   "outputs": [
    {
     "data": {
      "text/plain": [
       "torch.Size([32, 6])"
      ]
     },
     "execution_count": 43,
     "metadata": {},
     "output_type": "execute_result"
    }
   ],
   "source": [
    "#now our embeddings have the dim we want, but its hideous, we're putting values in directly and it will not work if we decide to change the length of our context window (its currently 3)\n",
    "torch.cat(torch.unbind(emb,1), 1).shape #this is better than the first one. its still inefficient because it creates a new tensor and a whole bunch of new memory"
   ]
  },
  {
   "cell_type": "code",
   "execution_count": 44,
   "metadata": {},
   "outputs": [
    {
     "data": {
      "text/plain": [
       "torch.Size([32, 3, 2])"
      ]
     },
     "execution_count": 44,
     "metadata": {},
     "output_type": "execute_result"
    }
   ],
   "source": [
    "#calling .view() is extremely efficient due to shadow magic purposes. \n",
    "emb.shape"
   ]
  },
  {
   "cell_type": "code",
   "execution_count": 46,
   "metadata": {},
   "outputs": [
    {
     "data": {
      "text/plain": [
       "tensor([[True, True, True, True, True, True],\n",
       "        [True, True, True, True, True, True],\n",
       "        [True, True, True, True, True, True],\n",
       "        [True, True, True, True, True, True],\n",
       "        [True, True, True, True, True, True],\n",
       "        [True, True, True, True, True, True],\n",
       "        [True, True, True, True, True, True],\n",
       "        [True, True, True, True, True, True],\n",
       "        [True, True, True, True, True, True],\n",
       "        [True, True, True, True, True, True],\n",
       "        [True, True, True, True, True, True],\n",
       "        [True, True, True, True, True, True],\n",
       "        [True, True, True, True, True, True],\n",
       "        [True, True, True, True, True, True],\n",
       "        [True, True, True, True, True, True],\n",
       "        [True, True, True, True, True, True],\n",
       "        [True, True, True, True, True, True],\n",
       "        [True, True, True, True, True, True],\n",
       "        [True, True, True, True, True, True],\n",
       "        [True, True, True, True, True, True],\n",
       "        [True, True, True, True, True, True],\n",
       "        [True, True, True, True, True, True],\n",
       "        [True, True, True, True, True, True],\n",
       "        [True, True, True, True, True, True],\n",
       "        [True, True, True, True, True, True],\n",
       "        [True, True, True, True, True, True],\n",
       "        [True, True, True, True, True, True],\n",
       "        [True, True, True, True, True, True],\n",
       "        [True, True, True, True, True, True],\n",
       "        [True, True, True, True, True, True],\n",
       "        [True, True, True, True, True, True],\n",
       "        [True, True, True, True, True, True]])"
      ]
     },
     "execution_count": 46,
     "metadata": {},
     "output_type": "execute_result"
    }
   ],
   "source": [
    "emb.view(32,6)  == torch.cat(torch.unbind(emb,1), 1)#this is basically the concatenation operation  we were looking for"
   ]
  },
  {
   "cell_type": "code",
   "execution_count": 50,
   "metadata": {},
   "outputs": [],
   "source": [
    "h = torch.tanh(emb.view(-1,6) @ W1 + b1) #this works now!  (putting in -1 in the first arg of .view( ) makes pytorch infer what dimension this should have. neat)"
   ]
  },
  {
   "cell_type": "code",
   "execution_count": 51,
   "metadata": {},
   "outputs": [
    {
     "data": {
      "text/plain": [
       "torch.Size([32, 100])"
      ]
     },
     "execution_count": 51,
     "metadata": {},
     "output_type": "execute_result"
    }
   ],
   "source": [
    "h.shape"
   ]
  },
  {
   "cell_type": "code",
   "execution_count": 52,
   "metadata": {},
   "outputs": [
    {
     "data": {
      "text/plain": [
       "tensor([[ 1.0000, -0.9831, -1.0000,  ...,  0.6218,  0.9995,  0.9831],\n",
       "        [ 0.9979, -0.9708, -0.9993,  ..., -0.9920,  0.9962,  0.5110],\n",
       "        [ 0.9932, -0.9901, -0.9917,  ..., -0.2425,  0.0420,  0.9939],\n",
       "        ...,\n",
       "        [-1.0000, -0.7140,  0.9987,  ..., -0.9702, -1.0000,  0.9810],\n",
       "        [ 1.0000, -0.5822,  0.9607,  ..., -0.9951,  0.9975, -1.0000],\n",
       "        [-0.9996,  0.9237, -0.7924,  ...,  0.9998, -0.9896, -0.4349]])"
      ]
     },
     "execution_count": 52,
     "metadata": {},
     "output_type": "execute_result"
    }
   ],
   "source": [
    "h"
   ]
  },
  {
   "cell_type": "code",
   "execution_count": 55,
   "metadata": {},
   "outputs": [
    {
     "name": "stdout",
     "output_type": "stream",
     "text": [
      "torch.Size([32, 100])\n",
      "torch.Size([100])\n"
     ]
    }
   ],
   "source": [
    "#a note on broadcasting and making sure that it works\n",
    "print((emb.view(-1,6)@W1).shape)\n",
    "print(b1.shape)\n",
    "#We basically have \n",
    "# 32,100\n",
    "#  1,100 , this creates a \"fake\" dimension of 1 to make the addition possible. 100 aligns with 100, we're good. good practice to check broadcasting semantics"
   ]
  },
  {
   "cell_type": "code",
   "execution_count": 56,
   "metadata": {},
   "outputs": [],
   "source": [
    "W2 = torch.randn((100,27)) #27 neurons, this is the final layer of our network\n",
    "b2 = torch.randn(27)\n",
    "logits = h @ W2 + b2"
   ]
  },
  {
   "cell_type": "code",
   "execution_count": 57,
   "metadata": {},
   "outputs": [
    {
     "data": {
      "text/plain": [
       "torch.Size([32, 27])"
      ]
     },
     "execution_count": 57,
     "metadata": {},
     "output_type": "execute_result"
    }
   ],
   "source": [
    "logits.shape"
   ]
  },
  {
   "cell_type": "code",
   "execution_count": 58,
   "metadata": {},
   "outputs": [],
   "source": [
    "counts = logits.exp()"
   ]
  },
  {
   "cell_type": "code",
   "execution_count": 59,
   "metadata": {},
   "outputs": [],
   "source": [
    "prob = counts / counts.sum(1, keepdims = True)"
   ]
  },
  {
   "cell_type": "code",
   "execution_count": 60,
   "metadata": {},
   "outputs": [
    {
     "data": {
      "text/plain": [
       "torch.Size([32, 27])"
      ]
     },
     "execution_count": 60,
     "metadata": {},
     "output_type": "execute_result"
    }
   ],
   "source": [
    "#Previous two steps was our softmax\n",
    "prob.shape"
   ]
  },
  {
   "cell_type": "code",
   "execution_count": 61,
   "metadata": {},
   "outputs": [
    {
     "data": {
      "text/plain": [
       "tensor(1.)"
      ]
     },
     "execution_count": 61,
     "metadata": {},
     "output_type": "execute_result"
    }
   ],
   "source": [
    "prob[0].sum() #checking that softmax has worked"
   ]
  },
  {
   "cell_type": "code",
   "execution_count": 63,
   "metadata": {},
   "outputs": [
    {
     "data": {
      "text/plain": [
       "tensor([1.5128e-04, 1.2007e-10, 3.5098e-11, 3.1889e-01, 1.3862e-06, 1.5810e-02,\n",
       "        4.0860e-08, 1.3941e-02, 1.3443e-09, 1.5657e-04, 1.2827e-04, 1.2321e-05,\n",
       "        4.0182e-02, 1.0797e-10, 8.5287e-06, 1.0124e-08, 2.5105e-03, 7.7306e-09,\n",
       "        8.4083e-08, 6.6667e-04, 1.5578e-05, 4.9395e-19, 1.0184e-13, 2.8138e-07,\n",
       "        4.9146e-10, 3.6064e-04, 1.1044e-01, 6.1107e-11, 6.6895e-14, 6.6118e-10,\n",
       "        3.0271e-03, 2.4734e-13])"
      ]
     },
     "execution_count": 63,
     "metadata": {},
     "output_type": "execute_result"
    }
   ],
   "source": [
    "#we have the actual layer that comes next. it comes from Y, which is the identity of the next char that we wanna predict. we wanna index into the rows of prob and each row, we'd like to pluck\n",
    "#out the probablility assigned to the next character\n",
    "prob[torch.arange(32),Y]"
   ]
  },
  {
   "cell_type": "code",
   "execution_count": 64,
   "metadata": {},
   "outputs": [
    {
     "data": {
      "text/plain": [
       "tensor(15.2922)"
      ]
     },
     "execution_count": 64,
     "metadata": {},
     "output_type": "execute_result"
    }
   ],
   "source": [
    "loss = -prob[torch.arange(32),Y].log().mean()\n",
    "loss"
   ]
  },
  {
   "cell_type": "code",
   "execution_count": 83,
   "metadata": {},
   "outputs": [
    {
     "data": {
      "text/plain": [
       "(torch.Size([228146, 3]), torch.Size([228146]))"
      ]
     },
     "execution_count": 83,
     "metadata": {},
     "output_type": "execute_result"
    }
   ],
   "source": [
    "#Rewrite to make more respectable\n",
    "X.shape, Y.shape #Dataset"
   ]
  },
  {
   "cell_type": "code",
   "execution_count": 84,
   "metadata": {},
   "outputs": [],
   "source": [
    "g = torch.Generator().manual_seed(2147483647)\n",
    "C = torch.randn((27,2), generator=g)\n",
    "W1 = torch.randn((6,100),generator=g)\n",
    "b1 = torch.randn(100,generator=g)\n",
    "W2 = torch.randn((100,27),generator=g)\n",
    "b2= torch.randn(27,generator=g)\n",
    "parameters = [C,W1,b1,W2,b2]"
   ]
  },
  {
   "cell_type": "code",
   "execution_count": 85,
   "metadata": {},
   "outputs": [
    {
     "data": {
      "text/plain": [
       "3481"
      ]
     },
     "execution_count": 85,
     "metadata": {},
     "output_type": "execute_result"
    }
   ],
   "source": [
    "sum(p.nelement() for p in parameters) #number of params total for model :=)"
   ]
  },
  {
   "cell_type": "code",
   "execution_count": 86,
   "metadata": {},
   "outputs": [],
   "source": [
    "for p in parameters:\n",
    "    p.requires_grad = True"
   ]
  },
  {
   "cell_type": "code",
   "execution_count": 89,
   "metadata": {},
   "outputs": [
    {
     "data": {
      "text/plain": [
       "tensor([4.5079e-05, 3.3309e-04, 6.6903e-03, 9.9293e-01])"
      ]
     },
     "execution_count": 89,
     "metadata": {},
     "output_type": "execute_result"
    }
   ],
   "source": [
    "#This is basically very bad crossentropy. we just use the torch function instead. explained a bit more in the cell below this one \n",
    "logits_test = torch.tensor([-5,-3,0,5]) + 1#too positives of values give inf, we get out of our range exponentiating like this. you can add an arbitrary constant to all of ur logits. prebuilt crossentropy does this for ur most positive logit to make sure we don't get such a large count that its infintie\n",
    "counts_t = logits_test.exp()\n",
    "probs_T = counts_t / counts_t.sum()\n",
    "probs_T"
   ]
  },
  {
   "cell_type": "code",
   "execution_count": 88,
   "metadata": {},
   "outputs": [
    {
     "name": "stdout",
     "output_type": "stream",
     "text": [
      "9.14895248413086\n",
      "8.93111801147461\n",
      "8.722238540649414\n",
      "8.521757125854492\n",
      "8.329233169555664\n",
      "8.144330978393555\n",
      "7.966796875\n",
      "7.7964558601379395\n",
      "7.633191108703613\n",
      "7.4769134521484375\n",
      "Final:7.4769134521484375\n"
     ]
    }
   ],
   "source": [
    "for _ in range(10):\n",
    "#forward pass: prebuilt crossentropy instead of doing it this awful way:\n",
    "    emb = C[X] # (32,3,2)\n",
    "    h = torch.tanh(emb.view(-1,6)@W1 + b1) #(32,100)\n",
    "    logits = h @ W2 + b2 # (32,27)\n",
    "    loss = F.cross_entropy(logits,Y) #MUCH better, do this. makes everything much more efficient, the backwards pass gets faster too. This is explored in the cell above\n",
    "    print(loss.item())\n",
    "    #counts = logits.exp()\n",
    "    #prob = counts / counts.sum(1,keepdims = True)\n",
    "    #loss = -prob[torch.arange(32),Y].log().mean()\n",
    "\n",
    "    #backward pass! \n",
    "    for p in parameters:\n",
    "        p.grad = None\n",
    "    loss.backward()\n",
    "    #update\n",
    "    for p in parameters:\n",
    "        p.data += -0.1 * p.grad\n",
    "\n",
    "print(\"Final:\" + str(loss.item()))"
   ]
  },
  {
   "cell_type": "code",
   "execution_count": 170,
   "metadata": {},
   "outputs": [],
   "source": [
    "#we overfit one batch in the example above. before when initialising out X and Y, we had words[:5], we're gonna get rid of the slicing and just use the entire dataset. \n",
    "#Once we did train on the entire dataset in one go, as we saw above, it was incredibly slow. around a second per epoch, which is bad if we want thousands. \n",
    "#we gotta do batching. rewriting model below so we have both versions for educational purposes\n",
    "g = torch.Generator().manual_seed(2147483647)\n",
    "C = torch.randn((27,2), generator=g)\n",
    "W1 = torch.randn((6,100),generator=g)\n",
    "b1 = torch.randn(100,generator=g)\n",
    "W2 = torch.randn((100,27),generator=g)\n",
    "b2= torch.randn(27,generator=g)\n",
    "parameters = [C,W1,b1,W2,b2]"
   ]
  },
  {
   "cell_type": "code",
   "execution_count": 171,
   "metadata": {},
   "outputs": [
    {
     "data": {
      "text/plain": [
       "3481"
      ]
     },
     "execution_count": 171,
     "metadata": {},
     "output_type": "execute_result"
    }
   ],
   "source": [
    "sum(p.nelement() for p in parameters) #number of params total for model :=)"
   ]
  },
  {
   "cell_type": "code",
   "execution_count": 172,
   "metadata": {},
   "outputs": [],
   "source": [
    "for p in parameters:\n",
    "    p.requires_grad = True"
   ]
  },
  {
   "cell_type": "code",
   "execution_count": 173,
   "metadata": {},
   "outputs": [],
   "source": [
    "#below we figured out through trial and error that the best LR is prolly between 0.001 and 1. lets use that as a search space\n",
    "lrE= torch.linspace(-3,0,1000)\n",
    "lrs = 10**lrE"
   ]
  },
  {
   "cell_type": "code",
   "execution_count": 178,
   "metadata": {},
   "outputs": [
    {
     "name": "stdout",
     "output_type": "stream",
     "text": [
      "Final:2.3828396797180176\n"
     ]
    }
   ],
   "source": [
    "lri = []\n",
    "lossi = []\n",
    "for i in range(100000):\n",
    "#forward pass: prebuilt crossentropy instead of doing it this awful way, AND WITH BATCHING :) \n",
    "\n",
    "    #mninibatch construct\n",
    "    ix = torch.randint(0,X.shape[0], (32,)) #generates 32 random numbers between 0 and the highest val number in X. indices that we will pass into C[x] below to grab 32 random examples from our dataset   \n",
    "    emb = C[X[ix]] # (32,3,2)\n",
    "    h = torch.tanh(emb.view(-1,6)@W1 + b1) #(32,100)\n",
    "    logits = h @ W2 + b2 # (32,27)\n",
    "    loss = F.cross_entropy(logits,Y[ix]) #MUCH better, do this. makes everything much more efficient, the backwards pass gets faster too. This is explored in the cell above\n",
    "    #print(loss.item())\n",
    "    #counts = logits.exp()\n",
    "    #prob = counts / counts.sum(1,keepdims = True)\n",
    "    #loss = -prob[torch.arange(32),Y].log().mean()\n",
    "\n",
    "    #backward pass! \n",
    "    for p in parameters:\n",
    "        p.grad = None\n",
    "    loss.backward()\n",
    "    #update, but with learning rate indexing over our linear jumps over the exponents of our learning rate range\n",
    "    #lr = lrs[i]\n",
    "    lr = 0.01 #we did a search for the best LR and found that its exponent was optimal at -1, so we know that 0.1 is a pretty good learning rate. we do a LR decay after running a couple 10 thousand of each LR. \n",
    "    for p in parameters:\n",
    "        p.data += -lr * p.grad\n",
    "    #tracking stats to find best LR\n",
    "    #lri.append(lrE[i])\n",
    "    #lossi.append(loss.item())\n",
    "\n",
    "print(\"Final:\" + str(loss.item()))"
   ]
  },
  {
   "cell_type": "code",
   "execution_count": 164,
   "metadata": {},
   "outputs": [
    {
     "data": {
      "text/plain": [
       "[<matplotlib.lines.Line2D at 0x1eb500cfd00>]"
      ]
     },
     "execution_count": 164,
     "metadata": {},
     "output_type": "execute_result"
    },
    {
     "data": {
      "image/png": "[encoded data removed]",
      "text/plain": [
       "<Figure size 640x480 with 1 Axes>"
      ]
     },
     "metadata": {},
     "output_type": "display_data"
    }
   ],
   "source": [
    "plt.plot(lri,lossi)"
   ]
  },
  {
   "cell_type": "code",
   "execution_count": 179,
   "metadata": {},
   "outputs": [
    {
     "data": {
      "text/plain": [
       "tensor(2.2218, grad_fn=<NllLossBackward0>)"
      ]
     },
     "execution_count": 179,
     "metadata": {},
     "output_type": "execute_result"
    }
   ],
   "source": [
    "#above is the loss for only one minibatch. let's evaluate for all of X and all of Y\n",
    "emb = C[X]\n",
    "h = torch.tanh(emb.view(-1,6)@W1 + b1) #(32,100)\n",
    "logits = h @ W2 + b2 # (32,27)\n",
    "loss = F.cross_entropy(logits,Y)\n",
    "loss"
   ]
  },
  {
   "cell_type": "code",
   "execution_count": 25,
   "metadata": {},
   "outputs": [
    {
     "name": "stdout",
     "output_type": "stream",
     "text": [
      "torch.Size([182625, 3]) torch.Size([182625])\n",
      "torch.Size([22655, 3]) torch.Size([22655])\n",
      "torch.Size([22866, 3]) torch.Size([22866])\n"
     ]
    }
   ],
   "source": [
    "#now obviously we haven't done a train test split. this is bad. \n",
    "#training split, dev/validation split, test split\n",
    "#80%, 10%, 10%\n",
    "#80% is used to optimize parameters, validation split is used to optimize hyperparameters, test split is for testing\n",
    "def build_dataset(words):\n",
    "    block_size = 3\n",
    "    X,Y = [], []\n",
    "    for w in words:\n",
    "        context = [0] * block_size\n",
    "        for ch in w + '.':\n",
    "            ix = stoi[ch]\n",
    "            X.append(context)\n",
    "            Y.append(ix)\n",
    "            context = context[1:] + [ix]\n",
    "    X = torch.tensor(X)\n",
    "    Y = torch.tensor(Y)\n",
    "    print(X.shape,Y.shape)\n",
    "    return X,Y\n",
    "\n",
    "import random\n",
    "random.seed(42)\n",
    "random.shuffle(words)\n",
    "n1 = int(0.8*len(words))\n",
    "n2 = int(0.9*len(words))\n",
    "Xtr, Ytr = build_dataset(words[:n1])\n",
    "Xdev,Ydev = build_dataset(words[n1:n2])\n",
    "Xte,Yte = build_dataset(words[n2:])"
   ]
  },
  {
   "cell_type": "code",
   "execution_count": 26,
   "metadata": {},
   "outputs": [
    {
     "data": {
      "text/plain": [
       "(torch.Size([182625, 3]), torch.Size([182625]))"
      ]
     },
     "execution_count": 26,
     "metadata": {},
     "output_type": "execute_result"
    }
   ],
   "source": [
    "#Now made respectable ver2:\n",
    "Xtr.shape, Ytr.shape"
   ]
  },
  {
   "cell_type": "code",
   "execution_count": 27,
   "metadata": {},
   "outputs": [],
   "source": [
    "g = torch.Generator().manual_seed(2147483647)\n",
    "C = torch.randn((27,2), generator=g)\n",
    "W1 = torch.randn((6,100),generator=g)\n",
    "b1 = torch.randn(100,generator=g)\n",
    "W2 = torch.randn((100,27),generator=g)\n",
    "b2= torch.randn(27,generator=g)\n",
    "parameters = [C,W1,b1,W2,b2]"
   ]
  },
  {
   "cell_type": "code",
   "execution_count": 28,
   "metadata": {},
   "outputs": [
    {
     "data": {
      "text/plain": [
       "3481"
      ]
     },
     "execution_count": 28,
     "metadata": {},
     "output_type": "execute_result"
    }
   ],
   "source": [
    "sum(p.nelement() for p in parameters) #number of params total for model :=)"
   ]
  },
  {
   "cell_type": "code",
   "execution_count": 29,
   "metadata": {},
   "outputs": [],
   "source": [
    "for p in parameters:\n",
    "    p.requires_grad = True"
   ]
  },
  {
   "cell_type": "code",
   "execution_count": 30,
   "metadata": {},
   "outputs": [],
   "source": [
    "#below we figured out through trial and error that the best LR is prolly between 0.001 and 1. lets use that as a search space\n",
    "lrE= torch.linspace(-3,0,1000)\n",
    "lrs = 10**lrE"
   ]
  },
  {
   "cell_type": "code",
   "execution_count": 46,
   "metadata": {},
   "outputs": [
    {
     "name": "stdout",
     "output_type": "stream",
     "text": [
      "Final:2.167308807373047\n"
     ]
    }
   ],
   "source": [
    "lri = []\n",
    "lossi = []\n",
    "for i in range(1000):\n",
    "#forward pass: prebuilt crossentropy instead of doing it this awful way, AND WITH BATCHING :) \n",
    "\n",
    "    #mninibatch construct\n",
    "    ix = torch.randint(0,Xtr.shape[0], (32,)) #generates 32 random numbers between 0 and the highest val number in X. indices that we will pass into C[x] below to grab 32 random examples from our dataset   \n",
    "    emb = C[Xtr[ix]] # (32,3,2)\n",
    "    h = torch.tanh(emb.view(-1,6)@W1 + b1) #(32,100)\n",
    "    logits = h @ W2 + b2 # (32,27)\n",
    "    loss = F.cross_entropy(logits,Ytr[ix]) #MUCH better, do this. makes everything much more efficient, the backwards pass gets faster too. This is explored in the cell above\n",
    "    #print(loss.item())\n",
    "    #counts = logits.exp()\n",
    "    #prob = counts / counts.sum(1,keepdims = True)\n",
    "    #loss = -prob[torch.arange(32),Y].log().mean()\n",
    "\n",
    "    #backward pass! \n",
    "    for p in parameters:\n",
    "        p.grad = None\n",
    "    loss.backward()\n",
    "    #update, but with learning rate indexing over our linear jumps over the exponents of our learning rate range\n",
    "    #lr = lrs[i]\n",
    "    lr = 0.1 #we did a search for the best LR and found that its exponent was optimal at -1, so we know that 0.1 is a pretty good learning rate. we do a LR decay after running a couple 10 thousand of each LR. \n",
    "    for p in parameters:\n",
    "        p.data += -lr * p.grad\n",
    "    #tracking stats to find best LR\n",
    "    #lri.append(lrE[i])\n",
    "    #lossi.append(loss.item())\n",
    "\n",
    "print(\"Final:\" + str(loss.item()))"
   ]
  },
  {
   "cell_type": "code",
   "execution_count": 47,
   "metadata": {},
   "outputs": [
    {
     "data": {
      "text/plain": [
       "tensor(2.2984, grad_fn=<NllLossBackward0>)"
      ]
     },
     "execution_count": 47,
     "metadata": {},
     "output_type": "execute_result"
    }
   ],
   "source": [
    "#above is the loss for only one minibatch. let's evaluate for Xdev and Ydev\n",
    "emb = C[Xdev]\n",
    "h = torch.tanh(emb.view(-1,6)@W1 + b1) #(32,100)\n",
    "logits = h @ W2 + b2 # (32,27)\n",
    "loss = F.cross_entropy(logits,Ydev)\n",
    "loss"
   ]
  },
  {
   "cell_type": "code",
   "execution_count": 48,
   "metadata": {},
   "outputs": [
    {
     "data": {
      "text/plain": [
       "tensor(2.3024, grad_fn=<NllLossBackward0>)"
      ]
     },
     "execution_count": 48,
     "metadata": {},
     "output_type": "execute_result"
    }
   ],
   "source": [
    "#above is the loss for only one minibatch. let's evaluate for Xte and Yte\n",
    "emb = C[Xte]\n",
    "h = torch.tanh(emb.view(-1,6)@W1 + b1) #(32,100)\n",
    "logits = h @ W2 + b2 # (32,27)\n",
    "loss = F.cross_entropy(logits,Yte)\n",
    "loss"
   ]
  },
  {
   "cell_type": "code",
   "execution_count": 49,
   "metadata": {},
   "outputs": [],
   "source": [
    "#Looks like we're underfitting; validation loss and test loss seem to be identical. let's make this network bigger :) \n",
    "g = torch.Generator().manual_seed(2147483647)\n",
    "C = torch.randn((27,2), generator=g)\n",
    "W1 = torch.randn((6,300),generator=g)\n",
    "b1 = torch.randn(300,generator=g)\n",
    "W2 = torch.randn((300,27),generator=g)\n",
    "b2= torch.randn(27,generator=g)\n",
    "parameters = [C,W1,b1,W2,b2]"
   ]
  },
  {
   "cell_type": "code",
   "execution_count": 50,
   "metadata": {},
   "outputs": [
    {
     "data": {
      "text/plain": [
       "10281"
      ]
     },
     "execution_count": 50,
     "metadata": {},
     "output_type": "execute_result"
    }
   ],
   "source": [
    "sum(p.nelement() for p in parameters) #number of params total for model :=)"
   ]
  },
  {
   "cell_type": "code",
   "execution_count": 51,
   "metadata": {},
   "outputs": [],
   "source": [
    "for p in parameters:\n",
    "    p.requires_grad = True"
   ]
  },
  {
   "cell_type": "code",
   "execution_count": 52,
   "metadata": {},
   "outputs": [],
   "source": [
    "#below we figured out through trial and error that the best LR is prolly between 0.001 and 1. lets use that as a search space\n",
    "lrE= torch.linspace(-3,0,1000)\n",
    "lrs = 10**lrE"
   ]
  },
  {
   "cell_type": "code",
   "execution_count": 73,
   "metadata": {},
   "outputs": [
    {
     "name": "stdout",
     "output_type": "stream",
     "text": [
      "Final:2.2376978397369385\n"
     ]
    }
   ],
   "source": [
    "lri = []\n",
    "lossi = []\n",
    "stepi = []\n",
    "for i in range(30000):\n",
    "#forward pass: prebuilt crossentropy instead of doing it this awful way, AND WITH BATCHING :) \n",
    "\n",
    "    #mninibatch construct\n",
    "    ix = torch.randint(0,Xtr.shape[0], (32,)) #generates 32 random numbers between 0 and the highest val number in X. indices that we will pass into C[x] below to grab 32 random examples from our dataset   \n",
    "    emb = C[Xtr[ix]] # (32,3,2)\n",
    "    h = torch.tanh(emb.view(-1,6)@W1 + b1) #(32,100)\n",
    "    logits = h @ W2 + b2 # (32,27)\n",
    "    loss = F.cross_entropy(logits,Ytr[ix]) #MUCH better, do this. makes everything much more efficient, the backwards pass gets faster too. This is explored in the cell above\n",
    "    #print(loss.item())\n",
    "    #counts = logits.exp()\n",
    "    #prob = counts / counts.sum(1,keepdims = True)\n",
    "    #loss = -prob[torch.arange(32),Y].log().mean()\n",
    "\n",
    "    #backward pass! \n",
    "    for p in parameters:\n",
    "        p.grad = None\n",
    "    loss.backward()\n",
    "    #update, but with learning rate indexing over our linear jumps over the exponents of our learning rate range\n",
    "    #lr = lrs[i]\n",
    "    lr = 0.01 #we did a search for the best LR and found that its exponent was optimal at -1, so we know that 0.1 (at least to begin with) is a pretty good learning rate. we do a LR decay after running a couple 10 thousand of each LR. \n",
    "    for p in parameters:\n",
    "        p.data += -lr * p.grad\n",
    "    #tracking stats to find best LR\n",
    "    stepi.append(i)\n",
    "    #lri.append(lrE[i])\n",
    "    lossi.append(loss.item())\n",
    "\n",
    "print(\"Final:\" + str(loss.item()))"
   ]
  },
  {
   "cell_type": "code",
   "execution_count": 54,
   "metadata": {},
   "outputs": [
    {
     "data": {
      "text/plain": [
       "[<matplotlib.lines.Line2D at 0x22a6eb02ad0>]"
      ]
     },
     "execution_count": 54,
     "metadata": {},
     "output_type": "execute_result"
    },
    {
     "data": {
      "image/png": "[encoded data removed]",
      "text/plain": [
       "<Figure size 640x480 with 1 Axes>"
      ]
     },
     "metadata": {},
     "output_type": "display_data"
    }
   ],
   "source": [
    "plt.plot(stepi,lossi)"
   ]
  },
  {
   "cell_type": "code",
   "execution_count": 74,
   "metadata": {},
   "outputs": [
    {
     "data": {
      "text/plain": [
       "tensor(2.2249, grad_fn=<NllLossBackward0>)"
      ]
     },
     "execution_count": 74,
     "metadata": {},
     "output_type": "execute_result"
    }
   ],
   "source": [
    "#let's evaluate for Xdev and Ydev\n",
    "emb = C[Xdev]\n",
    "h = torch.tanh(emb.view(-1,6)@W1 + b1) #(32,100)\n",
    "logits = h @ W2 + b2 # (32,27)\n",
    "loss = F.cross_entropy(logits,Ydev)\n",
    "loss"
   ]
  },
  {
   "cell_type": "code",
   "execution_count": 75,
   "metadata": {},
   "outputs": [
    {
     "data": {
      "text/plain": [
       "tensor(2.2208, grad_fn=<NllLossBackward0>)"
      ]
     },
     "execution_count": 75,
     "metadata": {},
     "output_type": "execute_result"
    }
   ],
   "source": [
    "#let's evaluate for Xte and Yte\n",
    "emb = C[Xte]\n",
    "h = torch.tanh(emb.view(-1,6)@W1 + b1) #(32,100)\n",
    "logits = h @ W2 + b2 # (32,27)\n",
    "loss = F.cross_entropy(logits,Yte)\n",
    "loss"
   ]
  },
  {
   "cell_type": "code",
   "execution_count": 77,
   "metadata": {},
   "outputs": [
    {
     "data": {
      "image/png": "[encoded data removed]",
      "text/plain": [
       "<Figure size 800x800 with 1 Axes>"
      ]
     },
     "metadata": {},
     "output_type": "display_data"
    }
   ],
   "source": [
    "#a potential bottleneck is our dimensionality reduction of the look-up table down to 2 dimensions. this could lead to information loss that our model could use to make something even better.\n",
    "plt.figure(figsize=(8,8))\n",
    "plt.scatter(C[:,0].data, C[:,1].data, s=200)\n",
    "for i in range(C.shape[0]):\n",
    "    plt.text(C[i,0].item(),C[i,1].item(), itos[i], ha='center', va='center',color='white')\n",
    "plt.grid('minor')"
   ]
  },
  {
   "cell_type": "code",
   "execution_count": 82,
   "metadata": {},
   "outputs": [],
   "source": [
    "#now we're gonna be able to scale up the embedding size and we won't be able to visualise it anymore, but it will lead to an improvement in our performance. \n",
    "#we're still underfitting. we make model bigger, still underfitting, so embedding vectors might be bottleneck\n",
    "g = torch.Generator().manual_seed(2147483647)\n",
    "C = torch.randn((27,10), generator=g)\n",
    "W1 = torch.randn((30,200),generator=g)\n",
    "b1 = torch.randn(200,generator=g)\n",
    "W2 = torch.randn((200,27),generator=g)\n",
    "b2= torch.randn(27,generator=g)\n",
    "parameters = [C,W1,b1,W2,b2]"
   ]
  },
  {
   "cell_type": "code",
   "execution_count": 83,
   "metadata": {},
   "outputs": [
    {
     "data": {
      "text/plain": [
       "11897"
      ]
     },
     "execution_count": 83,
     "metadata": {},
     "output_type": "execute_result"
    }
   ],
   "source": [
    "sum(p.nelement() for p in parameters) #number of params total for model :=)"
   ]
  },
  {
   "cell_type": "code",
   "execution_count": 84,
   "metadata": {},
   "outputs": [],
   "source": [
    "for p in parameters:\n",
    "    p.requires_grad = True"
   ]
  },
  {
   "cell_type": "code",
   "execution_count": 85,
   "metadata": {},
   "outputs": [],
   "source": [
    "lri = []\n",
    "lossi = []\n",
    "stepi = []"
   ]
  },
  {
   "cell_type": "code",
   "execution_count": 100,
   "metadata": {},
   "outputs": [
    {
     "name": "stdout",
     "output_type": "stream",
     "text": [
      "Final:2.0307466983795166\n"
     ]
    }
   ],
   "source": [
    "for i in range(200000):\n",
    "#forward pass: prebuilt crossentropy instead of doing it this awful way, AND WITH BATCHING :) \n",
    "\n",
    "    #mninibatch construct\n",
    "    ix = torch.randint(0,Xtr.shape[0], (32,)) #generates 32 random numbers between 0 and the highest val number in X. indices that we will pass into C[x] below to grab 32 random examples from our dataset   \n",
    "    emb = C[Xtr[ix]] # (32,3,2)\n",
    "    h = torch.tanh(emb.view(-1,30)@W1 + b1) #(32,100)\n",
    "    logits = h @ W2 + b2 # (32,27)\n",
    "    loss = F.cross_entropy(logits,Ytr[ix]) #MUCH better, do this. makes everything much more efficient, the backwards pass gets faster too. This is explored in the cell above\n",
    "    #print(loss.item())\n",
    "    #counts = logits.exp()\n",
    "    #prob = counts / counts.sum(1,keepdims = True)\n",
    "    #loss = -prob[torch.arange(32),Y].log().mean()\n",
    "\n",
    "    #backward pass! \n",
    "    for p in parameters:\n",
    "        p.grad = None\n",
    "    loss.backward()\n",
    "    #update, but with learning rate indexing over our linear jumps over the exponents of our learning rate range\n",
    "    #lr = lrs[i]\n",
    "    lr = 0.1 if i <100000 else 0.01 #we did a search for the best LR and found that its exponent was optimal at -1, so we know that 0.1 (at least to begin with) is a pretty good learning rate. we do a LR decay after running a couple 10 thousand of each LR. \n",
    "    for p in parameters:\n",
    "        p.data += -lr * p.grad\n",
    "    #tracking stats to find best LR\n",
    "    stepi.append(i)\n",
    "    #lri.append(lrE[i])\n",
    "    lossi.append(loss.log10().item())\n",
    "\n",
    "print(\"Final:\" + str(loss.item()))"
   ]
  },
  {
   "cell_type": "code",
   "execution_count": 101,
   "metadata": {},
   "outputs": [
    {
     "data": {
      "text/plain": [
       "[<matplotlib.lines.Line2D at 0x22a7cf0d3c0>]"
      ]
     },
     "execution_count": 101,
     "metadata": {},
     "output_type": "execute_result"
    },
    {
     "data": {
      "image/png": "[encoded data removed]",
      "text/plain": [
       "<Figure size 640x480 with 1 Axes>"
      ]
     },
     "metadata": {},
     "output_type": "display_data"
    }
   ],
   "source": [
    "plt.plot(stepi,lossi)"
   ]
  },
  {
   "cell_type": "code",
   "execution_count": 102,
   "metadata": {},
   "outputs": [
    {
     "data": {
      "text/plain": [
       "tensor(2.1388, grad_fn=<NllLossBackward0>)"
      ]
     },
     "execution_count": 102,
     "metadata": {},
     "output_type": "execute_result"
    }
   ],
   "source": [
    "#let's evaluate for Xdev and Ydev\n",
    "emb = C[Xdev]\n",
    "h = torch.tanh(emb.view(-1,30)@W1 + b1) #(32,100)\n",
    "logits = h @ W2 + b2 # (32,27)\n",
    "loss = F.cross_entropy(logits,Ydev)\n",
    "loss"
   ]
  },
  {
   "cell_type": "code",
   "execution_count": 103,
   "metadata": {},
   "outputs": [
    {
     "data": {
      "text/plain": [
       "tensor(2.1457, grad_fn=<NllLossBackward0>)"
      ]
     },
     "execution_count": 103,
     "metadata": {},
     "output_type": "execute_result"
    }
   ],
   "source": [
    "#let's evaluate for Xte and Yte\n",
    "emb = C[Xte]\n",
    "h = torch.tanh(emb.view(-1,30)@W1 + b1) #(32,100)\n",
    "logits = h @ W2 + b2 # (32,27)\n",
    "loss = F.cross_entropy(logits,Yte)\n",
    "loss"
   ]
  },
  {
   "cell_type": "code",
   "execution_count": 105,
   "metadata": {},
   "outputs": [
    {
     "name": "stdout",
     "output_type": "stream",
     "text": [
      "mona.\n",
      "kayanniel.\n",
      "mad.\n",
      "ryla.\n",
      "rethrishadraegelie.\n",
      "korelin.\n",
      "shi.\n",
      "jen.\n",
      "eden.\n",
      "van.\n",
      "aarvelynn.\n",
      "hoka.\n",
      "cayshabergiaghiel.\n",
      "kinde.\n",
      "jeniquetzana.\n",
      "uba.\n",
      "ged.\n",
      "ryyah.\n",
      "fael.\n",
      "yuma.\n"
     ]
    }
   ],
   "source": [
    "#Let's sample the model finally and enjoy the fruits of our labour\n",
    "g = torch.Generator().manual_seed(2147483647+10)\n",
    "\n",
    "for _ in range(20):\n",
    "    out = []\n",
    "    context = [0] * block_size\n",
    "    while True:\n",
    "        emb = C[torch.tensor([context])]\n",
    "        h = torch.tanh(emb.view(1,-1)@ W1 + b1)\n",
    "        logits = h @ W2 + b2\n",
    "        probs = F.softmax(logits, dim=1)\n",
    "        ix = torch.multinomial(probs,num_samples=1,generator=g).item()\n",
    "        context = context[1:]+ [ix]\n",
    "        out.append(ix)\n",
    "        if ix == 0:\n",
    "            break\n",
    "    print(''.join(itos[i] for i in out))"
   ]
  },
  {
   "cell_type": "code",
   "execution_count": null,
   "metadata": {},
   "outputs": [],
   "source": []
  }
 ],
 "metadata": {
  "kernelspec": {
   "display_name": "Python 3",
   "language": "python",
   "name": "python3"
  },
  "language_info": {
   "codemirror_mode": {
    "name": "ipython",
    "version": 3
   },
   "file_extension": ".py",
   "mimetype": "text/x-python",
   "name": "python",
   "nbconvert_exporter": "python",
   "pygments_lexer": "ipython3",
   "version": "3.10.11"
  }
 },
 "nbformat": 4,
 "nbformat_minor": 2
}
